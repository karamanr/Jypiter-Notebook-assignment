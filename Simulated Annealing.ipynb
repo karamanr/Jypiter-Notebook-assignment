{
 "cells": [
  {
   "cell_type": "markdown",
   "metadata": {},
   "source": [
    "# Generate random nodes"
   ]
  },
  {
   "cell_type": "code",
   "execution_count": 1,
   "metadata": {},
   "outputs": [
    {
     "name": "stdout",
     "output_type": "stream",
     "text": [
      "Nodes and coordinates:\n",
      "[[102 140]\n",
      " [ 12 135]\n",
      " [ 92 119]\n",
      " [ 42  42]\n",
      " [155 170]\n",
      " [179 199]\n",
      " [ 33  32]\n",
      " [116  73]\n",
      " [103  83]\n",
      " [ 15  18]\n",
      " [ 46 196]]\n"
     ]
    }
   ],
   "source": [
    "import random\n",
    "import numpy as np\n",
    "\n",
    "'''set the dimensions of the grid'''\n",
    "size_width = 200\n",
    "size_height = 200\n",
    "\n",
    "'''set the number of nodes'''\n",
    "population_size = 11\n",
    "\n",
    "def generateNodes(width, height, nodesNumber):\n",
    "    xs = np.random.randint(width, size=nodesNumber)\n",
    "    ys = np.random.randint(height, size=nodesNumber)\n",
    "\n",
    "    print('Nodes and coordinates:')\n",
    "    print(np.column_stack((xs, ys)))\n",
    "    return np.column_stack((xs, ys))\n",
    "\n",
    "'''generate random list of nodes'''\n",
    "nodes = generateNodes(size_width, size_height, population_size)\n"
   ]
  },
  {
   "cell_type": "markdown",
   "metadata": {},
   "source": [
    "# Functions to calculate initial weight"
   ]
  },
  {
   "cell_type": "code",
   "execution_count": 2,
   "metadata": {},
   "outputs": [],
   "source": [
    "import math\n",
    "\n",
    "\n",
    "def vectorToDistMatrix(coords):\n",
    "    '''\n",
    "    Create the distance matrix\n",
    "    '''\n",
    "    return np.sqrt((np.square(coords[:, np.newaxis] - coords).sum(axis=2)))\n",
    "\n",
    "\n",
    "def nearestNeighbourSolution(dist_matrix):\n",
    "    '''\n",
    "    Computes the initial solution (nearest neighbour strategy)\n",
    "    '''\n",
    "    node = random.randrange(len(dist_matrix))\n",
    "    result = [node]\n",
    "\n",
    "    nodes_to_visit = list(range(len(dist_matrix)))\n",
    "    nodes_to_visit.remove(node)\n",
    "\n",
    "    while nodes_to_visit:\n",
    "        nearest_node = min([(dist_matrix[node][j], j) for j in nodes_to_visit], key=lambda x: x[0])\n",
    "        node = nearest_node[1]\n",
    "        nodes_to_visit.remove(node)\n",
    "        result.append(node)\n",
    "\n",
    "    return result\n"
   ]
  },
  {
   "cell_type": "markdown",
   "metadata": {},
   "source": [
    "# Bruteforce implementation (gets the most optim path)"
   ]
  },
  {
   "cell_type": "code",
   "execution_count": 3,
   "metadata": {},
   "outputs": [
    {
     "name": "stdout",
     "output_type": "stream",
     "text": [
      "Bruteforce results:\n",
      "\tBest score: 26.90724809414742\n",
      "\tBest path:  (1, 2, 6, 4, 5, 3, 7, 8, 9, 10, 0)\n",
      "\tExecution time: 264.638359 seconds\n"
     ]
    }
   ],
   "source": [
    "from itertools import permutations\n",
    "from datetime import datetime\n",
    "\n",
    "def get_best_score_brute_force(nodes_matrix, paths):\n",
    "    best_score = 0\n",
    "    best_solution = []\n",
    "\n",
    "    for path in paths:\n",
    "        score = 0\n",
    "\n",
    "        for i in range(1, len(path)):\n",
    "            score += nodes_matrix[path[i-1]][i]\n",
    "\n",
    "        score += nodes_matrix[path[i-1]][i]\n",
    "\n",
    "        if best_score == 0 or score < best_score:\n",
    "            best_score = score\n",
    "            best_solution = path\n",
    "\n",
    "    return (best_score, best_solution)\n",
    "\n",
    "bruteforce_start_ts = datetime.now()\n",
    "nodes_matrix = vectorToDistMatrix(nodes)\n",
    "all_permutations = list(permutations(range(len(nodes_matrix[0]))))\n",
    "bf_result = get_best_score_brute_force(nodes_matrix, all_permutations)\n",
    "bruteforce_precessing_time = (datetime.now() - bruteforce_start_ts).total_seconds()\n",
    "\n",
    "print(\"Bruteforce results:\")\n",
    "print(\"\\tBest score:\", bf_result[0])\n",
    "print(\"\\tBest path: \", bf_result[1])\n",
    "print(\"\\tExecution time:\", bruteforce_precessing_time, \"seconds\")"
   ]
  },
  {
   "cell_type": "markdown",
   "metadata": {},
   "source": [
    "# Class for simulated annealing"
   ]
  },
  {
   "cell_type": "code",
   "execution_count": 4,
   "metadata": {},
   "outputs": [],
   "source": [
    "import math\n",
    "import matplotlib.pyplot as plt\n",
    "\n",
    "\n",
    "class SimulatedAnnealing:\n",
    "    def __init__(self, coords, temp, alpha, stopping_temp, stopping_iter):\n",
    "        ''' animate the solution over time\n",
    "\n",
    "            Parameters\n",
    "            ----------\n",
    "            coords: array_like\n",
    "                list of coordinates\n",
    "            temp: float\n",
    "                initial temperature\n",
    "            alpha: float\n",
    "                rate at which temp decreases\n",
    "            stopping_temp: float\n",
    "                temerature at which annealing process terminates\n",
    "            stopping_iter: int\n",
    "                interation at which annealing process terminates\n",
    "\n",
    "        '''\n",
    "\n",
    "        self.coords = coords\n",
    "        self.sample_size = len(coords)\n",
    "        self.temp = temp\n",
    "        self.alpha = alpha\n",
    "        self.stopping_temp = stopping_temp\n",
    "        self.stopping_iter = stopping_iter\n",
    "        self.iteration = 1\n",
    "\n",
    "        self.dist_matrix = vectorToDistMatrix(coords)\n",
    "        self.curr_solution = nearestNeighbourSolution(self.dist_matrix)\n",
    "        self.best_solution = self.curr_solution\n",
    "\n",
    "        self.solution_history = [self.curr_solution]\n",
    "\n",
    "        self.curr_weight = self.weight(self.curr_solution)\n",
    "        self.initial_weight = self.curr_weight\n",
    "        self.min_weight = self.curr_weight\n",
    "\n",
    "        self.weight_list = [self.curr_weight]\n",
    "\n",
    "        print('Intial weight (nearest neighbour algorithm): ', self.curr_weight)\n",
    "\n",
    "    def weight(self, sol):\n",
    "        '''\n",
    "        Calcuate weight\n",
    "        '''\n",
    "        return sum([self.dist_matrix[i, j] for i, j in zip(sol, sol[1:] + [sol[0]])])\n",
    "\n",
    "    def acceptance_probability(self, candidate_weight):\n",
    "        '''\n",
    "        Acceptance probability as described in:\n",
    "        https://stackoverflow.com/questions/19757551/basics-of-simulated-annealing-in-python\n",
    "        '''\n",
    "        return math.exp(-abs(candidate_weight - self.curr_weight) / self.temp)\n",
    "\n",
    "    def accept(self, candidate):\n",
    "        '''\n",
    "        Accept with probability 1 if candidate solution is better than\n",
    "        current solution, else accept with probability equal to the\n",
    "        acceptance_probability()\n",
    "        '''\n",
    "        candidate_weight = self.weight(candidate)\n",
    "        if candidate_weight < self.curr_weight:\n",
    "            self.curr_weight = candidate_weight\n",
    "            self.curr_solution = candidate\n",
    "            if candidate_weight < self.min_weight:\n",
    "                self.min_weight = candidate_weight\n",
    "                self.best_solution = candidate\n",
    "\n",
    "        else:\n",
    "            if random.random() < self.acceptance_probability(candidate_weight):\n",
    "                self.curr_weight = candidate_weight\n",
    "                self.curr_solution = candidate\n",
    "\n",
    "    def anneal(self):\n",
    "        '''\n",
    "        Annealing process with 2-opt\n",
    "        described here: https://en.wikipedia.org/wiki/2-opt\n",
    "        '''\n",
    "        while self.temp >= self.stopping_temp and self.iteration < self.stopping_iter:\n",
    "            candidate = list(self.curr_solution)\n",
    "            l = random.randint(2, self.sample_size - 1)\n",
    "            i = random.randint(0, self.sample_size - l)\n",
    "\n",
    "            candidate[i: (i + l)] = reversed(candidate[i: (i + l)])\n",
    "\n",
    "            self.accept(candidate)\n",
    "            self.temp *= self.alpha\n",
    "            self.iteration += 1\n",
    "            self.weight_list.append(self.curr_weight)\n",
    "            self.solution_history.append(self.curr_solution)\n",
    "\n",
    "        print('Minimum weight (simulated annealing algorithm): ', self.min_weight)\n",
    "        \n",
    "        improvement_percent = round((self.initial_weight - self.min_weight) / (self.initial_weight), 4) * 100\n",
    "        print('Improvement: ', improvement_percent, '%')\n",
    "        print()\n",
    "        print('Solution:', self.best_solution)\n",
    "        \n",
    "        return (self.min_weight, self.best_solution, improvement_percent)\n",
    "\n",
    "    def plotLearning(self):\n",
    "        plt.plot([i for i in range(len(self.weight_list))], self.weight_list)\n",
    "        line_init = plt.axhline(y=self.initial_weight, color='r', linestyle='--')\n",
    "        line_min = plt.axhline(y=self.min_weight, color='g', linestyle='--')\n",
    "        plt.legend([line_init, line_min], ['Initial weight', 'Optimized weight'])\n",
    "        plt.ylabel('Weight')\n",
    "        plt.xlabel('Iteration')\n",
    "        plt.show()"
   ]
  },
  {
   "cell_type": "markdown",
   "metadata": {},
   "source": [
    "# Main code"
   ]
  },
  {
   "cell_type": "code",
   "execution_count": 5,
   "metadata": {},
   "outputs": [
    {
     "name": "stdout",
     "output_type": "stream",
     "text": [
      "Intial weight (nearest neighbour algorithm):  667.9230282607025\n",
      "Minimum weight (simulated annealing algorithm):  612.2441628128306\n",
      "Improvement:  8.34 %\n",
      "\n",
      "Solution: [2, 8, 7, 3, 6, 9, 1, 10, 5, 4, 0]\n",
      "Execution time: 0.478718 seconds\n"
     ]
    },
    {
     "data": {
      "image/png": "[encoded data removed]",
      "text/plain": [
       "<Figure size 432x288 with 1 Axes>"
      ]
     },
     "metadata": {
      "needs_background": "light"
     },
     "output_type": "display_data"
    }
   ],
   "source": [
    "'''set the simulated annealing algorithm params'''\n",
    "temperature = 10000\n",
    "stopping_temp = 0.000001\n",
    "alpha = 0.9995\n",
    "stopping_iter = 20000000\n",
    "\n",
    "'''run simulated annealing algorithm with 2-opt'''\n",
    "sa = SimulatedAnnealing(nodes, temperature, alpha, stopping_temp, stopping_iter)\n",
    "annealing_start_ts = datetime.now()\n",
    "anneal_results = sa.anneal()\n",
    "annealing_precessing_time = (datetime.now() - annealing_start_ts).total_seconds()\n",
    "print(\"Execution time:\", annealing_precessing_time, \"seconds\")\n",
    "\n",
    "'''show the improvement over time'''\n",
    "sa.plotLearning()    "
   ]
  },
  {
   "cell_type": "markdown",
   "metadata": {},
   "source": [
    "# Statistics"
   ]
  },
  {
   "cell_type": "code",
   "execution_count": 6,
   "metadata": {},
   "outputs": [
    {
     "name": "stdout",
     "output_type": "stream",
     "text": [
      "Bruteforce results:\n",
      "\tBest score: 26.90724809414742\n",
      "\tExecution time: 264.638359 seconds\n",
      "\n",
      "Simulated Annealing results:\n",
      "\tBest score: 612.2441628128306\n",
      "\tBest path:  [2, 8, 7, 3, 6, 9, 1, 10, 5, 4, 0]\n",
      "\tImprovement 8.34 %\n",
      "\tExecution time: 0.478718 seconds\n"
     ]
    }
   ],
   "source": [
    "print(\"Bruteforce results:\")\n",
    "print(\"\\tBest score:\", bf_result[0])\n",
    "print(\"\\tExecution time:\", bruteforce_precessing_time, \"seconds\")\n",
    "\n",
    "print()\n",
    "\n",
    "print(\"Simulated Annealing results:\")\n",
    "print(\"\\tBest score:\", anneal_results[0])\n",
    "print(\"\\tBest path: \", anneal_results[1])\n",
    "print(\"\\tImprovement\", anneal_results[2], \"%\")\n",
    "print(\"\\tExecution time:\", annealing_precessing_time, \"seconds\")"
   ]
  }
 ],
 "metadata": {
  "kernelspec": {
   "display_name": "Python 3",
   "language": "python",
   "name": "python3"
  },
  "language_info": {
   "codemirror_mode": {
    "name": "ipython",
    "version": 3
   },
   "file_extension": ".py",
   "mimetype": "text/x-python",
   "name": "python",
   "nbconvert_exporter": "python",
   "pygments_lexer": "ipython3",
   "version": "3.7.6"
  }
 },
 "nbformat": 4,
 "nbformat_minor": 4
}
