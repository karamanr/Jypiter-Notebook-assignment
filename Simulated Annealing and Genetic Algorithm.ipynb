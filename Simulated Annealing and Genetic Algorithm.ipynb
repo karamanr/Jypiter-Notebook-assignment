{
 "cells": [
  {
   "cell_type": "markdown",
   "metadata": {},
   "source": [
    "# Simulated Annealing and Genetic Algorithm Presentation"
   ]
  },
  {
   "cell_type": "markdown",
   "metadata": {},
   "source": [
    "Authors: Stefan-Claudiu Cristescu\n",
    "         Luke Ryan\n",
    "         Ridvan Karaman\n",
    "         Xavier Gauchoux"
   ]
  },
  {
   "cell_type": "markdown",
   "metadata": {},
   "source": [
    "# Generate random nodes"
   ]
  },
  {
   "cell_type": "code",
   "execution_count": 1,
   "metadata": {},
   "outputs": [
    {
     "name": "stdout",
     "output_type": "stream",
     "text": [
      "Nodes and coordinates:\n",
      "[[132 183]\n",
      " [131 100]\n",
      " [ 76 113]\n",
      " [ 68  37]\n",
      " [188  18]\n",
      " [116  75]\n",
      " [101 196]\n",
      " [ 96  85]\n",
      " [188   5]\n",
      " [178  41]]\n"
     ]
    }
   ],
   "source": [
    "import random\n",
    "import numpy as np\n",
    "\n",
    "'''set the dimensions of the grid'''\n",
    "size_width = 200\n",
    "size_height = 200\n",
    "\n",
    "'''set the number of nodes'''\n",
    "population_size = 10\n",
    "\n",
    "def generateNodes(width, height, nodesNumber):\n",
    "    xs = np.random.randint(width, size=nodesNumber)\n",
    "    ys = np.random.randint(height, size=nodesNumber)\n",
    "\n",
    "    print('Nodes and coordinates:')\n",
    "    print(np.column_stack((xs, ys)))\n",
    "    return np.column_stack((xs, ys))\n",
    "\n",
    "'''generate random list of nodes'''\n",
    "nodes = generateNodes(size_width, size_height, population_size)\n"
   ]
  },
  {
   "cell_type": "markdown",
   "metadata": {},
   "source": [
    "# Functions to calculate initial weight"
   ]
  },
  {
   "cell_type": "code",
   "execution_count": 2,
   "metadata": {},
   "outputs": [],
   "source": [
    "import math\n",
    "\n",
    "\n",
    "def vectorToDistMatrix(coords):\n",
    "    '''\n",
    "    Create the distance matrix\n",
    "    '''\n",
    "    return np.sqrt((np.square(coords[:, np.newaxis] - coords).sum(axis=2)))\n",
    "\n",
    "\n",
    "def nearestNeighbourSolution(dist_matrix):\n",
    "    '''\n",
    "    Computes the initial solution (nearest neighbour strategy)\n",
    "    '''\n",
    "    node = random.randrange(len(dist_matrix))\n",
    "    result = [node]\n",
    "\n",
    "    nodes_to_visit = list(range(len(dist_matrix)))\n",
    "    nodes_to_visit.remove(node)\n",
    "\n",
    "    while nodes_to_visit:\n",
    "        nearest_node = min([(dist_matrix[node][j], j) for j in nodes_to_visit], key=lambda x: x[0])\n",
    "        node = nearest_node[1]\n",
    "        nodes_to_visit.remove(node)\n",
    "        result.append(node)\n",
    "\n",
    "    return result\n"
   ]
  },
  {
   "cell_type": "markdown",
   "metadata": {},
   "source": [
    "# Bruteforce implementation (gets the most optim path)"
   ]
  },
  {
   "cell_type": "code",
   "execution_count": 3,
   "metadata": {},
   "outputs": [
    {
     "name": "stdout",
     "output_type": "stream",
     "text": [
      "Bruteforce results:\n",
      "\tBest score: 555.4226128337092\n",
      "\tBest path:  (0, 1, 5, 9, 4, 8, 3, 7, 2, 6)\n",
      "\tExecution time: 25.028087 seconds\n"
     ]
    }
   ],
   "source": [
    "from itertools import permutations\n",
    "from datetime import datetime\n",
    "\n",
    "def get_best_score_brute_force(nodes_matrix, paths):\n",
    "    best_score = 0\n",
    "    best_solution = []\n",
    "\n",
    "    for path in paths:\n",
    "        score = 0\n",
    "\n",
    "        for i in range(1, len(path)):\n",
    "            score += nodes_matrix[path[i-1]][path[i]]\n",
    "\n",
    "        score += nodes_matrix[path[-1]][path[0]]\n",
    "\n",
    "        if best_score == 0 or score < best_score:\n",
    "            best_score = score\n",
    "            best_solution = path\n",
    "\n",
    "    return (best_score, best_solution)\n",
    "\n",
    "bruteforce_start_ts = datetime.now()\n",
    "nodes_matrix = vectorToDistMatrix(nodes)\n",
    "all_permutations = list(permutations(range(len(nodes_matrix[0]))))\n",
    "bf_result = get_best_score_brute_force(nodes_matrix, all_permutations)\n",
    "bruteforce_precessing_time = (datetime.now() - bruteforce_start_ts).total_seconds()\n",
    "\n",
    "print(\"Bruteforce results:\")\n",
    "print(\"\\tBest score:\", bf_result[0])\n",
    "print(\"\\tBest path: \", bf_result[1])\n",
    "print(\"\\tExecution time:\", bruteforce_precessing_time, \"seconds\")"
   ]
  },
  {
   "cell_type": "markdown",
   "metadata": {},
   "source": [
    "# Class for simulated annealing"
   ]
  },
  {
   "cell_type": "code",
   "execution_count": 4,
   "metadata": {},
   "outputs": [],
   "source": [
    "import math\n",
    "import matplotlib.pyplot as plt\n",
    "\n",
    "\n",
    "class SimulatedAnnealing:\n",
    "    def __init__(self, coords, temp, alpha, stopping_temp, stopping_iter):\n",
    "        ''' animate the solution over time\n",
    "\n",
    "            Parameters\n",
    "            ----------\n",
    "            coords: array_like\n",
    "                list of coordinates\n",
    "            temp: float\n",
    "                initial temperature\n",
    "            alpha: float\n",
    "                rate at which temp decreases\n",
    "            stopping_temp: float\n",
    "                temerature at which annealing process terminates\n",
    "            stopping_iter: int\n",
    "                interation at which annealing process terminates\n",
    "\n",
    "        '''\n",
    "\n",
    "        self.coords = coords\n",
    "        self.sample_size = len(coords)\n",
    "        self.temp = temp\n",
    "        self.alpha = alpha\n",
    "        self.stopping_temp = stopping_temp\n",
    "        self.stopping_iter = stopping_iter\n",
    "        self.iteration = 1\n",
    "\n",
    "        self.dist_matrix = vectorToDistMatrix(coords)\n",
    "        self.curr_solution = nearestNeighbourSolution(self.dist_matrix)\n",
    "        self.best_solution = self.curr_solution\n",
    "\n",
    "        self.solution_history = [self.curr_solution]\n",
    "\n",
    "        self.curr_weight = self.weight(self.curr_solution)\n",
    "        self.initial_weight = self.curr_weight\n",
    "        self.min_weight = self.curr_weight\n",
    "\n",
    "        self.weight_list = [self.curr_weight]\n",
    "\n",
    "        print('Intial weight (nearest neighbour algorithm): ', self.curr_weight)\n",
    "\n",
    "    def weight(self, sol):\n",
    "        '''\n",
    "        Calcuate weight\n",
    "        '''\n",
    "        return sum([self.dist_matrix[i, j] for i, j in zip(sol, sol[1:] + [sol[0]])])\n",
    "\n",
    "    def acceptance_probability(self, candidate_weight):\n",
    "        '''\n",
    "        Acceptance probability as described in:\n",
    "        https://stackoverflow.com/questions/19757551/basics-of-simulated-annealing-in-python\n",
    "        '''\n",
    "        return math.exp(-abs(candidate_weight - self.curr_weight) / self.temp)\n",
    "\n",
    "    def accept(self, candidate):\n",
    "        '''\n",
    "        Accept with probability 1 if candidate solution is better than\n",
    "        current solution, else accept with probability equal to the\n",
    "        acceptance_probability()\n",
    "        '''\n",
    "        candidate_weight = self.weight(candidate)\n",
    "        if candidate_weight < self.curr_weight:\n",
    "            self.curr_weight = candidate_weight\n",
    "            self.curr_solution = candidate\n",
    "            if candidate_weight < self.min_weight:\n",
    "                self.min_weight = candidate_weight\n",
    "                self.best_solution = candidate\n",
    "\n",
    "        else:\n",
    "            if random.random() < self.acceptance_probability(candidate_weight):\n",
    "                self.curr_weight = candidate_weight\n",
    "                self.curr_solution = candidate\n",
    "\n",
    "    def anneal(self):\n",
    "        '''\n",
    "        Annealing process with 2-opt\n",
    "        described here: https://en.wikipedia.org/wiki/2-opt\n",
    "        '''\n",
    "        while self.temp >= self.stopping_temp and self.iteration < self.stopping_iter:\n",
    "            candidate = list(self.curr_solution)\n",
    "            l = random.randint(2, self.sample_size - 1)\n",
    "            i = random.randint(0, self.sample_size - l)\n",
    "\n",
    "            candidate[i: (i + l)] = reversed(candidate[i: (i + l)])\n",
    "\n",
    "            self.accept(candidate)\n",
    "            self.temp *= self.alpha\n",
    "            self.iteration += 1\n",
    "            self.weight_list.append(self.curr_weight)\n",
    "            self.solution_history.append(self.curr_solution)\n",
    "\n",
    "        print('Minimum weight (simulated annealing algorithm): ', self.min_weight)\n",
    "        \n",
    "        improvement_percent = round((self.initial_weight - self.min_weight) / (self.initial_weight), 4) * 100\n",
    "        print('Improvement: ', improvement_percent, '%')\n",
    "        print()\n",
    "        print('Solution:', self.best_solution)\n",
    "        \n",
    "        return (self.min_weight, self.best_solution, improvement_percent)\n",
    "\n",
    "    def plotLearning(self):\n",
    "        plt.plot([i for i in range(len(self.weight_list))], self.weight_list)\n",
    "        line_init = plt.axhline(y=self.initial_weight, color='r', linestyle='--')\n",
    "        line_min = plt.axhline(y=self.min_weight, color='g', linestyle='--')\n",
    "        plt.legend([line_init, line_min], ['Initial weight', 'Optimized weight'])\n",
    "        plt.ylabel('Weight')\n",
    "        plt.xlabel('Iteration')\n",
    "        plt.show()"
   ]
  },
  {
   "cell_type": "markdown",
   "metadata": {},
   "source": [
    "# Main code"
   ]
  },
  {
   "cell_type": "code",
   "execution_count": 5,
   "metadata": {},
   "outputs": [
    {
     "name": "stdout",
     "output_type": "stream",
     "text": [
      "Intial weight (nearest neighbour algorithm):  640.8670825249421\n",
      "Minimum weight (simulated annealing algorithm):  555.4226128337092\n",
      "Improvement:  13.33 %\n",
      "\n",
      "Solution: [2, 6, 0, 1, 5, 9, 4, 8, 3, 7]\n",
      "Execution time: 0.385967 seconds\n"
     ]
    },
    {
     "data": {
      "image/png": "[encoded data removed]",
      "text/plain": [
       "<Figure size 432x288 with 1 Axes>"
      ]
     },
     "metadata": {
      "needs_background": "light"
     },
     "output_type": "display_data"
    }
   ],
   "source": [
    "'''set the simulated annealing algorithm params'''\n",
    "temperature = 10000\n",
    "stopping_temp = 0.001\n",
    "alpha = 0.9995\n",
    "stopping_iter = 20000000\n",
    "\n",
    "'''run simulated annealing algorithm with 2-opt'''\n",
    "sa = SimulatedAnnealing(nodes, temperature, alpha, stopping_temp, stopping_iter)\n",
    "annealing_start_ts = datetime.now()\n",
    "anneal_results = sa.anneal()\n",
    "annealing_precessing_time = (datetime.now() - annealing_start_ts).total_seconds()\n",
    "print(\"Execution time:\", annealing_precessing_time, \"seconds\")\n",
    "\n",
    "'''show the improvement over time'''\n",
    "sa.plotLearning()    "
   ]
  },
  {
   "cell_type": "markdown",
   "metadata": {},
   "source": [
    "# Statistics"
   ]
  },
  {
   "cell_type": "code",
   "execution_count": 6,
   "metadata": {},
   "outputs": [
    {
     "name": "stdout",
     "output_type": "stream",
     "text": [
      "Bruteforce results:\n",
      "\tBest score: 555.4226128337092\n",
      "\tExecution time: 25.028087 seconds\n",
      "\n",
      "Simulated Annealing results:\n",
      "\tBest score: 555.4226128337092\n",
      "\tBest path:  [2, 6, 0, 1, 5, 9, 4, 8, 3, 7]\n",
      "\tExecution time: 0.385967 seconds\n",
      "\n",
      "Simulated annealing is better than nearest neighbour algorithm by 13.33 %\n",
      "Simulated annealing is less acurate than brute force algorithm by 0.0 %\n"
     ]
    }
   ],
   "source": [
    "print(\"Bruteforce results:\")\n",
    "print(\"\\tBest score:\", bf_result[0])\n",
    "print(\"\\tExecution time:\", bruteforce_precessing_time, \"seconds\")\n",
    "\n",
    "print()\n",
    "\n",
    "print(\"Simulated Annealing results:\")\n",
    "print(\"\\tBest score:\", anneal_results[0])\n",
    "print(\"\\tBest path: \", anneal_results[1])\n",
    "print(\"\\tExecution time:\", annealing_precessing_time, \"seconds\")\n",
    "\n",
    "print()\n",
    "\n",
    "print(\"Simulated annealing is better than nearest neighbour algorithm by\", anneal_results[2], \"%\")\n",
    "print(\"Simulated annealing is less acurate than brute force algorithm by\", \n",
    "      round((anneal_results[0] - bf_result[0]) / (anneal_results[0]), 4) * 100, \"%\")"
   ]
  },
  {
   "cell_type": "markdown",
   "metadata": {},
   "source": [
    "# Simulated Annealing Pseudocode"
   ]
  },
  {
   "cell_type": "markdown",
   "metadata": {},
   "source": [
    "```C\n",
    "currentSolution <- create_initial_solution()\n",
    "bestSolution <- create_initial_solution()\n",
    "for i <- 1,…,iterationMax do\n",
    "\tS[i] <- create_neighbor_solution (currentSolution)\n",
    "\tcurrentTemperature <- calculate_temperature (i)\n",
    "\tif weight(S[i]) < weight(currentSolution) then\n",
    "\t\tcurrentSolution <- S[i]\n",
    "\t\tif weight(S[i]) < weight(bestSolution) then\n",
    "\t\t\tbestSolution <- S[i]\n",
    "\t\tend if\n",
    "\telse if exp(-abs(S[i] - currentSolution) / currentTemperature) > rand() then\n",
    "\t\tcurrentSolution <- S[i]\n",
    "\tend if\n",
    "end for\n",
    "return bestSolution\n",
    "```"
   ]
  },
  {
   "cell_type": "markdown",
   "metadata": {},
   "source": [
    "# BIG O: Simulated Annealing"
   ]
  },
  {
   "cell_type": "markdown",
   "metadata": {},
   "source": [
    "`O((N^2 + N)*log N))`"
   ]
  },
  {
   "cell_type": "markdown",
   "metadata": {},
   "source": [
    "# Definition"
   ]
  },
  {
   "attachments": {
    "poza1.png": {
     "image/png": "[encoded data removed]"
    }
   },
   "cell_type": "markdown",
   "metadata": {},
   "source": [
    "The simulated annealing algorithm is a method of optimisation which is based on the real-life model of the slow cooling of metal. This process is called annealing, which is characterised by the atomic movement steadily lowering to reduce the defects in the metal until a lowest-energy state is attained. If molten hot metal were to be instantly lowered to a very cold temperature this would cause lots of defects and inconsistences in the metal.  However, if it is cooled with the annealing method then the metal will become very strong and stable. (Sciencedirect.com. 2020)\n",
    "![poza1.png](attachment:poza1.png)"
   ]
  },
  {
   "cell_type": "markdown",
   "metadata": {},
   "source": [
    "# Advantages"
   ]
  },
  {
   "cell_type": "markdown",
   "metadata": {},
   "source": [
    "A greedy algorithm will always choose the nearest neighbour, which will produce a sub-optimal route. These routes can be improved by using opt swap; selecting two edges and reconnecting them to produce a new route. Using local search, the current optimal solution can be improved continuously. Although due to early selections by the greedy algorithm the outputted optimal solution can be much more efficient but still sub-optimal, due getting stuck in a sub-optimal configuration. This is called local minimum. Some techniques such as the simulated annealing algorithm can avoid this by probabilistically accepting worse solutions early in the search process. (Coddington, P., 2020)"
   ]
  },
  {
   "cell_type": "markdown",
   "metadata": {},
   "source": [
    "# Explanation"
   ]
  },
  {
   "attachments": {
    "pic2.png": {
     "image/png": "[encoded data removed]"
    },
    "pic3.png": {
     "image/png": "[encoded data removed]"
    }
   },
   "cell_type": "markdown",
   "metadata": {},
   "source": [
    "The search lifespan in simulated annealing is measured by its ‘temperature’. At the beginning of the search process it is ‘hot’ and more readily accepts worse solutions. As the temperature drops lower the algorithm is less likely to accept new solutions which are worse. (Walker, J., 2018)\n",
    "Explore nearest neighbours in order to find an optimal solution. If there is a more optimal solution by moving to a neighbour, then always move to that neighbour.  If there is a less optimal solution by moving to a neighbour, then move with a certain degree of probability, which steadily decreases over time. When the algorithm is finished it will output the approximate optimal solution. Neighbours can be changed due to something called triangle inequality. Which basically means that the distance between d(x,y) <= d(x,z) + d(z,y). Essentially the route directly from x to y is always shorter than any other route. (Nikolaev A.G., Jacobson S.H., 2010)\n",
    "<img src=\"attachment:pic2.png\" width=\"350\" />\n",
    "<img src=\"attachment:pic3.png\" width=\"350\" />\n"
   ]
  },
  {
   "cell_type": "markdown",
   "metadata": {},
   "source": [
    "# Hill Climbing Example"
   ]
  },
  {
   "attachments": {
    "pic4.png": {
     "image/png": "[encoded data removed]"
    }
   },
   "cell_type": "markdown",
   "metadata": {},
   "source": [
    "A good example of this algorithm in use is making a program to check for the highest point on a hill. It is not resource or time efficient to check every point on the hill, so instead the current state will check each of its nearest neighbours. The algorithm will check to the left and the right and go to the highest neighbour. An issue with this if there’s a slight dip before an even higher point on the hill, the algorithm will not go beyond the dip, since it is lower than the current highest point. The state gets stuck at these points which are called local maxima. A way to overcome this issue is to try and select a worse neighbour with the hope of eventually finding a better neighbour, or the global maxima. This method involves selecting worse neighbours with a certain degree of probability. By selecting neighbours based on how close they are in height to the current state the algorithm can explore nearby neighbours to find a much more optimal state. \n",
    "![pic4.png](attachment:pic4.png)"
   ]
  },
  {
   "cell_type": "markdown",
   "metadata": {},
   "source": [
    "# References"
   ]
  },
  {
   "cell_type": "markdown",
   "metadata": {},
   "source": [
    "Sciencedirect.com. 2020. Simulated Annealing Algorithm - An Overview | Sciencedirect Topics. [online] Available at: <https://www.sciencedirect.com/topics/engineering/simulated-annealing-algorithm> [Accessed 10 March 2020]. \n",
    "Coddington, P., 2020. Simulated Annealing. [online] New-npac.org. Available at: <http://www.new-npac.org/projects/cdroms/cewes-1999-06-vol1/cps615course/csematerials/applications/mc/montecarlo/node134.html#SECTION000141000000000000000> [Accessed 13 March 2020].\n",
    "Walker, J., 2018. Simulated Annealing: The Travelling Salesman Problem. [online] Fourmilab.ch. Available at: <https://www.fourmilab.ch/documents/travelling/anneal/> [Accessed 10 March 2020].\n",
    "Nikolaev A.G., Jacobson S.H. (2010) Simulated Annealing. In: Gendreau M., Potvin JY. (eds) Handbook of Metaheuristics. International Series in Operations Research & Management Science, vol 146. Springer, Boston, MA [online] Available at: <https://doi.org/10.1007/978-1-4419-1665-5_1> [Accessed 6 March 2020].\n",
    "\n"
   ]
  },
  {
   "cell_type": "markdown",
   "metadata": {},
   "source": [
    "# Genetic Algorithm"
   ]
  },
  {
   "cell_type": "markdown",
   "metadata": {},
   "source": [
    "# Generate a random symmetric or euclidean graph"
   ]
  },
  {
   "cell_type": "markdown",
   "metadata": {},
   "source": [
    "Given for the task"
   ]
  },
  {
   "cell_type": "code",
   "execution_count": 7,
   "metadata": {},
   "outputs": [
    {
     "name": "stdout",
     "output_type": "stream",
     "text": [
      "        0   1   2   3   4\n",
      "    ---------------------\n",
      " 0 |    ∞38.47076812334269115.2779250333731586.8331733843696477.4919350642375\n",
      " 1 | 38.47076812334269   ∞79.6303962064738258.5491246732177955.57877292636101\n",
      " 2 | 115.2779250333731579.63039620647382   ∞38.6393581727233154.91812087098393\n",
      " 3 | 86.8331733843696458.5491246732177938.63935817272331   ∞16.278820596099706\n",
      " 4 | 77.491935064237555.5787729263610154.9181208709839316.278820596099706   ∞\n",
      "\n",
      "        0   1   2   3   4\n",
      "    ---------------------\n",
      " 0 |    ∞  86  57  93  17\n",
      " 1 |   86   ∞  98   3  26\n",
      " 2 |   57  98   ∞  49  45\n",
      " 3 |   93   3  49   ∞  49\n",
      " 4 |   17  26  45  49   ∞\n",
      "\n"
     ]
    }
   ],
   "source": [
    "from random import randint, choice, shuffle, random\n",
    "from pprint import pprint\n",
    "from itertools import permutations\n",
    "from math import inf as oo # Infinity (∞) is larger than any number\n",
    "from math import sqrt\n",
    "from time      import time\n",
    "import matplotlib.pyplot as plt\n",
    "import copy\n",
    "import numpy as np\n",
    "\n",
    "MAX_DISTANCE = 100\n",
    "\n",
    "def random_symmetric_graph(n):\n",
    "    ''' Symmetric adjacency matrix of size nxn '''\n",
    "    dist_matrix = [[oo for _ in range(n)] for _ in range(n)]\n",
    "    for i in range(n):\n",
    "        for j in range(i+1,n):\n",
    "            v = randint(1,MAX_DISTANCE)\n",
    "            dist_matrix[i][j] = v\n",
    "            dist_matrix[j][i] = v\n",
    "    return dist_matrix\n",
    "\n",
    "def random_euclidean_graph(n):\n",
    "    ''' Symmetric adjacency matrix of a Euclidean graph of size nxn '''\n",
    "    dist_matrix = [[oo for _ in range(n)] for _ in range(n)]\n",
    "    points = []\n",
    "    for p in range(n):\n",
    "        x,y = randint(0,MAX_DISTANCE), randint(0,MAX_DISTANCE)\n",
    "        points.append((x,y))\n",
    "    for i in range(n):\n",
    "        p1 = points[i]\n",
    "        for j in range(i+1,n):\n",
    "            p2 = points[j]\n",
    "            distance = sqrt((p1[0]-p2[0])**2+(p1[1]-p2[1])**2)\n",
    "            dist_matrix[i][j] = distance\n",
    "            dist_matrix[j][i] = distance\n",
    "    return dist_matrix\n",
    "\n",
    "def show(G):\n",
    "    ''' Show adjacency matrix. Useful for debugging. '''\n",
    "    n = len(G)\n",
    "    r = \"     \"\n",
    "    for i in range(n):\n",
    "        r += f'{i:4}'\n",
    "    r += '\\n    -'+'-'*(4*n)+'\\n'\n",
    "    for i in range(n):\n",
    "        r += f'{i:2} | '\n",
    "        for j in range(n):\n",
    "            r += f'{G[i][j]:4}'\n",
    "        r += '\\n'\n",
    "    r = r.replace('inf', '  ∞')\n",
    "    print(r)\n",
    "\n",
    "def cost(G, cycle):\n",
    "    ''' Calculate the cost of the given cycle '''\n",
    "    c = 0\n",
    "    n = len(G)\n",
    "    for i in range(n):\n",
    "        a = cycle[i]\n",
    "        b = cycle[(i+1)%n]\n",
    "        c += G[a][b]\n",
    "    return c\n",
    "\n",
    "J = random_euclidean_graph(5)\n",
    "G = random_symmetric_graph(5)\n",
    "show(J)\n",
    "show(G)"
   ]
  },
  {
   "cell_type": "markdown",
   "metadata": {},
   "source": [
    "# Create a generation of x possible routes"
   ]
  },
  {
   "cell_type": "markdown",
   "metadata": {},
   "source": [
    "With a given graph, randomly generate a 'population' of possible routes"
   ]
  },
  {
   "cell_type": "raw",
   "metadata": {},
   "source": [
    "Pseudocode\n",
    "\n",
    "Algorithm 1 Create a generation of x possible routes possibles.\n",
    "Input: An integer x of travelers and the Matrice M.\n",
    "Output: A list of lentgh x of sublists of unique routes possible for a TSP.\n",
    "\n",
    "1 :    route <- []\n",
    "2 :    genZ <- [None] * travelers\n",
    "3 :    \n",
    "4 :    for i <- 0,...,length(M) do\n",
    "5 :        route[i] <- i\n",
    "6 :    end for\n",
    "7 :\n",
    "8 :    for j <- 0,...,x do\n",
    "9 :        if j = 0 then\n",
    "10:            shuffle(route)\n",
    "11:            genZ[j] <- route\n",
    "12:        else\n",
    "13:            shuffle(route)\n",
    "14:            for h <- 0,...,length(genZ) do\n",
    "15:                if route = genZ[h] then\n",
    "16:                    shuffle(route)\n",
    "17:                end if\n",
    "18:            end for\n",
    "19:            genZ[j] <- route\n",
    "20:        end if\n",
    "21:    end for\n",
    "22:    \n",
    "23:    return genZ"
   ]
  },
  {
   "cell_type": "markdown",
   "metadata": {},
   "source": [
    "Code"
   ]
  },
  {
   "cell_type": "code",
   "execution_count": 8,
   "metadata": {},
   "outputs": [
    {
     "name": "stdout",
     "output_type": "stream",
     "text": [
      "\n",
      "Matrice\n",
      "        0   1   2   3   4\n",
      "    ---------------------\n",
      " 0 |    ∞  38  54  33  66\n",
      " 1 |   38   ∞  16  21  83\n",
      " 2 |   54  16   ∞  92  99\n",
      " 3 |   33  21  92   ∞  52\n",
      " 4 |   66  83  99  52   ∞\n",
      "\n",
      "Genenration 0 of routes\n",
      "[[1, 3, 4, 2, 0], [3, 1, 0, 4, 2], [0, 2, 1, 4, 3], [0, 2, 1, 3, 4], [3, 4, 0, 2, 1], [3, 4, 0, 1, 2]]\n"
     ]
    }
   ],
   "source": [
    "G = random_symmetric_graph(5)\n",
    "population = 6\n",
    "print(\"\\nMatrice\")\n",
    "show(G)\n",
    "\n",
    "'''Used the shuffle function to generate a 'population' sized amount'''\n",
    "'''of possible routes'''\n",
    "\n",
    "def createGen(matrix, population):\n",
    "    route = []\n",
    "    genZ = [None] * int(population)\n",
    "    for i in range(0,len(matrix)):\n",
    "        route.append(i)\n",
    "    for j in range(0,int(population)):\n",
    "        if j == 0:\n",
    "            np.random.shuffle(route)\n",
    "            newRoute = route[:]\n",
    "            genZ[j] = newRoute\n",
    "        else:\n",
    "            np.random.shuffle(route)\n",
    "            for h in range(0,len(genZ)):\n",
    "                if route == genZ[h]:\n",
    "                    np.random.shuffle(route)\n",
    "            newRoute = route[:]\n",
    "            genZ[j] = newRoute\n",
    "    return genZ\n",
    "\n",
    "print(\"Genenration 0 of routes\")        \n",
    "print(createGen(G,6))"
   ]
  },
  {
   "cell_type": "markdown",
   "metadata": {},
   "source": [
    "# Calculate the length of these routes"
   ]
  },
  {
   "cell_type": "markdown",
   "metadata": {},
   "source": [
    "We use the values in the graph to create a new list of positiv integer which represents, for each route, the sum of all its edges cost for a loop (TSP), the travelling distance."
   ]
  },
  {
   "cell_type": "raw",
   "metadata": {},
   "source": [
    "Pseudocode\n",
    "\n",
    "Algorithm 2 Rank the length of routes with given Matrice that has the values of the routes.\n",
    "Input: List L of different routes and the Matrice M.\n",
    "Output: List valueL of the value of each of routes of L (keeps order of routes).\n",
    "\n",
    "1 :    valueL <- []\n",
    "2 :    for i <- 0,...,length(L) do\n",
    "3 :        currentRouteValTotal <- 0\n",
    "4 :        for j <- 0,...,sizeOfMatrice do\n",
    "5 :            if j + 1 < sizeOfMatrice then\n",
    "6 :                currentRouteValTotal\n",
    "7 :                    <- currentRouteValTotal + M[L[i][j]][L[i][j+1]]\n",
    "8 :            else\n",
    "9 :                currentRouteValTotal \n",
    "10:                    <- currentRouteValTotal + M[L[i][j]][L[i][0]]\n",
    "11:            end if\n",
    "12:        end for\n",
    "13:        valueL[i] <- currentRouteVal\n",
    "14:    end for\n",
    "15:    return valueL"
   ]
  },
  {
   "cell_type": "markdown",
   "metadata": {},
   "source": [
    "Code"
   ]
  },
  {
   "cell_type": "code",
   "execution_count": 9,
   "metadata": {},
   "outputs": [
    {
     "name": "stdout",
     "output_type": "stream",
     "text": [
      "        0   1   2   3   4\n",
      "    ---------------------\n",
      " 0 |    ∞  38  54  33  66\n",
      " 1 |   38   ∞  16  21  83\n",
      " 2 |   54  16   ∞  92  99\n",
      " 3 |   33  21  92   ∞  52\n",
      " 4 |   66  83  99  52   ∞\n",
      "\n",
      "Genenration 0\n",
      "[[1, 0, 2, 4, 3], [4, 0, 2, 3, 1], [4, 2, 3, 1, 0], [0, 1, 4, 3, 2], [1, 2, 4, 3, 0], [1, 3, 0, 4, 2]]\n",
      "Fitness\n",
      "[264, 316, 316, 319, 238, 235]\n"
     ]
    }
   ],
   "source": [
    "def fitness(matrix, routes):\n",
    "    fitnessRanking = []\n",
    "    for i in range(0, len(routes)):\n",
    "        fitnessTotal = 0\n",
    "        for j in range(0,len(matrix)):\n",
    "            if j + 1 < len(matrix):\n",
    "                fitnessTotal = fitnessTotal + int(matrix[routes[i][j]][routes[i][j+1]])\n",
    "            else:\n",
    "                fitnessTotal = fitnessTotal + int(matrix[routes[i][j]][routes[i][0]])\n",
    "        fitnessRanking.append(fitnessTotal)\n",
    "    return fitnessRanking\n",
    "\n",
    "show(G)\n",
    "print(\"Genenration 0\")        \n",
    "genZ = createGen(G,6)\n",
    "print(genZ)\n",
    "print(\"Fitness\")\n",
    "ranking = fitness(G, genZ)\n",
    "print(ranking)"
   ]
  },
  {
   "cell_type": "markdown",
   "metadata": {},
   "source": [
    "# Choose the parents for mating with Elitism"
   ]
  },
  {
   "cell_type": "markdown",
   "metadata": {},
   "source": [
    "We then find the two routes with the lowest traveling distance by copying and sorting the rank list into a new list to find the top two.\n",
    "Then we find the position of them in the ranking list and in so in the routes list"
   ]
  },
  {
   "cell_type": "raw",
   "metadata": {},
   "source": [
    "Pseudocode\n",
    "\n",
    "Algorithm 3 Finds index position of the first/second best value in the list\n",
    "Input: List L of all routes and list valueL of the value of each of routes of L\n",
    "Output:First/second best route\n",
    "\n",
    "1 :    sortedL <- L\n",
    "2 :    sort(sortedL)\n",
    "3 :    firstPos <- valueL.index(sortedL[0])\n",
    "4 :    secondPos <- valueL.index(sortedL[1])\n",
    "5 :    firstRoute <- L[firstPos]\n",
    "6 :    secondRoute <- L[secondPos]\n",
    "7 :    return firstRoute, secondRoute\n"
   ]
  },
  {
   "cell_type": "markdown",
   "metadata": {},
   "source": [
    "Code"
   ]
  },
  {
   "cell_type": "code",
   "execution_count": 10,
   "metadata": {},
   "outputs": [
    {
     "name": "stdout",
     "output_type": "stream",
     "text": [
      "[1, 3, 0, 4, 2]\n",
      "[1, 2, 4, 3, 0]\n"
     ]
    }
   ],
   "source": [
    "def first(ranking, routes):\n",
    "    sortedRank = ranking[:]\n",
    "    sortedRank.sort()\n",
    "    firstPos = ranking.index(sortedRank[0])\n",
    "    firstRoute = routes[firstPos]\n",
    "    return firstRoute\n",
    "\n",
    "def second(ranking, routes):\n",
    "    sortedRank = ranking[:]\n",
    "    sortedRank.sort()\n",
    "    secondPos = ranking.index(sortedRank[1])\n",
    "    secondRoute = routes[secondPos]\n",
    "    return secondRoute\n",
    "    \n",
    "win = first(ranking, genZ)\n",
    "print(win)\n",
    "win2 = second(ranking, genZ)\n",
    "print(win2)\n",
    "    "
   ]
  },
  {
   "cell_type": "markdown",
   "metadata": {},
   "source": [
    "# Breeding"
   ]
  },
  {
   "cell_type": "markdown",
   "metadata": {},
   "source": [
    "We then breed the those two routes together to create a whole new generation of routes.\n",
    "To do so we take a random segment of random lentgh of the first parent and then put into the child (same segment in same position).\n",
    "Then we fill in from next index in the child with the second parents nodes."
   ]
  },
  {
   "cell_type": "raw",
   "metadata": {},
   "source": [
    "Pseudocode\n",
    "\n",
    "Algorithm 4 Breed two routes to create a whole new generation of 'travelers' routes\n",
    "Input: List Route1, List Route2 and the number x of travelers\n",
    "Output: A new generation of routes\n",
    "\n",
    "1 :    nextGen <- []\n",
    "2 :    for i <- 0,...,x do\n",
    "3 :        child <- []\n",
    "4 :        childP1 <- []\n",
    "5 :        childP2 <- []\n",
    "6 :        \n",
    "7 :        geneA <- randomNumber(0 to 1) * length(Route1))\n",
    "8 :        geneA <- integer(geneA)\n",
    "9 :        geneB <- randomNumber(0 to 1) * length(Route2))\n",
    "10:     geneB <- integer(geneA)\n",
    "11:     \n",
    "12:     startGene <- smallestNumberBetween(geneA, geneB)\n",
    "13:     endGene <- maxNumberBetween(geneA, geneB)\n",
    "14:     \n",
    "15:     for i <-- startGene,...,endGene do\n",
    "16:         childP1[i] <- parent1[i]\n",
    "17:     end for\n",
    "18:     \n",
    "19:     childP2 <- [item for item in parent2 if item not in childP1]\n",
    "20:     child <- childP1 + childP2\n",
    "21:     \n",
    "22:     nextGen[i] <- child\n",
    "23: end for\n",
    "24: return nextGen"
   ]
  },
  {
   "cell_type": "markdown",
   "metadata": {},
   "source": [
    "Code"
   ]
  },
  {
   "cell_type": "code",
   "execution_count": 11,
   "metadata": {},
   "outputs": [
    {
     "name": "stdout",
     "output_type": "stream",
     "text": [
      "[[0, 1, 2, 4, 3], [1, 3, 2, 4, 0], [1, 3, 2, 4, 0], [0, 1, 2, 4, 3], [0, 1, 2, 4, 3], [0, 4, 1, 2, 3]]\n"
     ]
    }
   ],
   "source": [
    "def breed(parent1, parent2, population):\n",
    "    nextGen = []\n",
    "    \n",
    "    for i in range(0,population):\n",
    "        child = []\n",
    "        childP1 = []\n",
    "        childP2 = []\n",
    "    \n",
    "    \n",
    "        geneA = int(np.random.random() * len(parent1))\n",
    "        geneB = int(np.random.random() * len(parent1))\n",
    "    \n",
    "        startGene = min(geneA, geneB)\n",
    "        endGene = max(geneA, geneB)\n",
    "    \n",
    "        for i in range(startGene, endGene):\n",
    "            childP1.append(parent1[i])\n",
    "        \n",
    "        childP2 = [item for item in parent2 if item not in childP1]\n",
    "        child = childP1 + childP2\n",
    "        nextGen.append(child)\n",
    "    \n",
    "    return nextGen\n",
    "    \n",
    "nextGen = breed(win, win2, population)\n",
    "print(nextGen)"
   ]
  },
  {
   "cell_type": "markdown",
   "metadata": {},
   "source": [
    "# Mutation"
   ]
  },
  {
   "cell_type": "markdown",
   "metadata": {},
   "source": [
    "We also randomly mutate each child route with a decided rate.\n",
    "We apply it to a whole gen to make it easier."
   ]
  },
  {
   "cell_type": "raw",
   "metadata": {},
   "source": [
    "Pseudocode\n",
    "\n",
    "Algorithm 5 Randomly mutate a route\n",
    "Input: A Route R and a fraction (mutation rate between 0 and 1)\n",
    "Output: A mutated or not route\n",
    "\n",
    "1 :    for swapped <- 0,...,length(R) do\n",
    "2 :        if randomNumber(0 to 1) <= mutationRate then\n",
    "3 :            swapWith <- randomNumber(0 to 1) * length(R)\n",
    "4 :            node1 <- child[swapped]\n",
    "5 :            node2 <- child[swapWith]\n",
    "6 :            child[swapped] <- node2\n",
    "7 :            child[swapWith] <- node1\n",
    "8 :        end if\n",
    "9 :    end for\n",
    "10:    return child\n",
    "\n",
    "\n",
    "\n",
    "Algorithm 6 Randomly mutate a whole generation\n",
    "Input: List of current generation L, a fraction mutationRate(mutation rate between 0 and 1) and the integer x of travelers\n",
    "Output: A mutated generation\n",
    "\n",
    "1 :    L <- []\n",
    "2 :    for child <- 0,...,x do\n",
    "3 :        mutatedChild <- mutate(L[child], mutationRate)\n",
    "4 :        mutatedGen[child] <- mutatedChild\n",
    "5 :    end for\n",
    "6 :    return mutatedGen\n"
   ]
  },
  {
   "cell_type": "markdown",
   "metadata": {},
   "source": [
    "Code"
   ]
  },
  {
   "cell_type": "code",
   "execution_count": 12,
   "metadata": {},
   "outputs": [
    {
     "name": "stdout",
     "output_type": "stream",
     "text": [
      "[[0, 1, 2, 4, 3], [1, 3, 2, 4, 0], [1, 3, 2, 4, 0], [0, 1, 2, 4, 3], [1, 0, 2, 4, 3], [0, 4, 1, 2, 3]]\n"
     ]
    }
   ],
   "source": [
    "'''Mutation rate set to 5%'''\n",
    "\n",
    "mutation = 0.05\n",
    "\n",
    "def mutate(child, mutationRate):\n",
    "    for swapped in range(len(child)):\n",
    "        if(np.random.random() <= mutationRate):\n",
    "            swapWith = int(np.random.random() * len(child))\n",
    "            \n",
    "            node1 = child[swapped]\n",
    "            node2 = child[swapWith]\n",
    "            \n",
    "            child[swapped] = node2\n",
    "            child[swapWith] = node1\n",
    "    return child\n",
    "\n",
    "def mutateGen(currentGen, mutationRate, population):\n",
    "    mutatedGen = []\n",
    "    \n",
    "    for child in range(0, population):\n",
    "        mutatedChild = mutate(currentGen[child], mutationRate)\n",
    "        mutatedGen.append(mutatedChild)\n",
    "        \n",
    "    return mutatedGen\n",
    "\n",
    "mutatedGen = mutateGen(nextGen,mutation, population)\n",
    "print(mutatedGen)"
   ]
  },
  {
   "cell_type": "markdown",
   "metadata": {},
   "source": [
    "# Repeat"
   ]
  },
  {
   "cell_type": "markdown",
   "metadata": {},
   "source": [
    "A function to be able to repeat this whole cycle of ranking, breeding and mutating to create a new generation"
   ]
  },
  {
   "cell_type": "raw",
   "metadata": {},
   "source": [
    "Pseudocode\n",
    "\n",
    "Algorithm 7 Takes a generation and runs it through the whole process of ranking, breeding and mutating into a new generation\n",
    "Input: A generation of routes G, the integer x of travelers and a fraction (mutation rate between 0 and 1)\n",
    "Output: A new generation of routes\n",
    "\n",
    "1 :    rank <- fitness(G, mutatedGen)\n",
    "2 :    parent1 <- first(rank, mutatedGen)\n",
    "3 :    parent2 <- second(rank, mutatedGen)\n",
    "4 :    currentGen <- breed(parent1, parent2, population)\n",
    "5 :    nextGeneration <- mutateGen(currentGen, mutationRate, population)\n",
    "6 :    return nextGeneration"
   ]
  },
  {
   "cell_type": "markdown",
   "metadata": {},
   "source": [
    "Code"
   ]
  },
  {
   "cell_type": "code",
   "execution_count": 13,
   "metadata": {},
   "outputs": [
    {
     "name": "stdout",
     "output_type": "stream",
     "text": [
      "[[0, 1, 4, 2, 3], [1, 0, 2, 4, 3], [2, 4, 0, 1, 3], [0, 1, 2, 4, 3], [0, 1, 2, 4, 3], [0, 1, 2, 4, 3]]\n"
     ]
    }
   ],
   "source": [
    "\n",
    "def nextGeneration(mutatedGen, population, mutationRate):\n",
    "    rank = fitness(G, mutatedGen)\n",
    "    parent1 = first(rank, mutatedGen)\n",
    "    parent2 = second(rank, mutatedGen)\n",
    "    currentGen = breed(parent1, parent2, population)\n",
    "    nextGeneration = mutateGen(currentGen, mutationRate, population)\n",
    "    return nextGeneration\n",
    "\n",
    "print(nextGeneration(mutatedGen, population, mutation))"
   ]
  },
  {
   "cell_type": "markdown",
   "metadata": {},
   "source": [
    "# Evolution"
   ]
  },
  {
   "cell_type": "markdown",
   "metadata": {},
   "source": [
    "Allows us to see the evolution of the routes after x generations, starting by showing us the first best route with its value and finishing by showing us the new best one."
   ]
  },
  {
   "cell_type": "raw",
   "metadata": {},
   "source": [
    "Pseudocode\n",
    "\n",
    "Algorithm 7 Creates multiple new generations \n",
    "Input: An integer x of traverlers, a matrice M, a mutation rate and an integer y of generations wanted\n",
    "Output: List 'results' of the best route of each generation, a value bestRouteVal of the value of the best route of all generations and bestRoute with the best route of all generations \n",
    "\n",
    "1 :    result <- []\n",
    "2 :    gen <- createGen(M, x)\n",
    "3 :    rank <- fitness(M, gen)\n",
    "4 :    sort(rank)\n",
    "5 :    initBestRouteVal <- rank[0]\n",
    "6 :    bestRouteVal <- initBestRouteVal\n",
    "7 :    initBestRoute <- first(rank, gen)\n",
    "8 :    bestRoute <- initBestRoute\n",
    "9 :    for i <- 0,...,y do\n",
    "10:        gen <- nextGeneration(gen, x, mutationRate)\n",
    "11:        rank <- fitness(M, gen)\n",
    "12:        sort(rank)\n",
    "13:        result[i] <- rank[0]\n",
    "14:        if rank[0] < bestRouteVal then\n",
    "15:            bestRouteVal <- rank[0]\n",
    "16:            bestRoute <- first(rank, gen)\n",
    "17:        end if\n",
    "18:    end for\n",
    "19:\n",
    "20:    return (result, bestRouteVal, bestRoute)\n"
   ]
  },
  {
   "cell_type": "markdown",
   "metadata": {},
   "source": [
    "Code"
   ]
  },
  {
   "cell_type": "code",
   "execution_count": 31,
   "metadata": {},
   "outputs": [
    {
     "name": "stdout",
     "output_type": "stream",
     "text": [
      "Initial best route: \n",
      "304\n",
      "[5, 3, 6, 2, 4, 0, 1, 8, 9, 7]\n",
      "\n",
      "Final best route: \n",
      "254\n",
      "[7, 0, 5, 1, 8, 2, 6, 3, 4, 9]\n",
      "\n",
      "Improvement\n",
      "16.45 %\n"
     ]
    }
   ],
   "source": [
    "def geneticAlgorithm(population, matrix, mutationRate, generations):\n",
    "    result = []\n",
    "    gen = createGen(matrix, population)\n",
    "    rank = fitness(matrix, gen)\n",
    "    rank.sort()\n",
    "    print(\"Initial best route: \")\n",
    "    print(rank[0])\n",
    "    initBestRouteVal = rank[0]\n",
    "    bestRouteVal = initBestRouteVal\n",
    "    print(first(rank, gen))\n",
    "    initBestRoute = first(rank, gen)\n",
    "    bestRoute = initBestRoute\n",
    "    result.append(rank[0])\n",
    "    \n",
    "    for i in range(0, int(generations)):\n",
    "        gen = nextGeneration(gen, population, mutationRate)\n",
    "        rank = fitness(G, gen)\n",
    "        rank.sort()\n",
    "        result.append(rank[0])\n",
    "        if rank[0] < bestRouteVal:\n",
    "            bestRouteVal = rank[0]\n",
    "            bestRoute = first(rank, gen)\n",
    "            \n",
    "    print(\"\\nFinal best route: \")\n",
    "    print(bestRouteVal)\n",
    "    print(bestRoute)\n",
    "    \n",
    "    print(\"\\nImprovement\")\n",
    "    print(round((initBestRouteVal - bestRouteVal) / (initBestRouteVal), 4) * 100, '%')\n",
    "    \n",
    "    return result\n",
    "\n",
    "bestRoute = geneticAlgorithm(population, G, mutation, 10)"
   ]
  },
  {
   "cell_type": "markdown",
   "metadata": {},
   "source": [
    "# Main Code"
   ]
  },
  {
   "cell_type": "markdown",
   "metadata": {},
   "source": [
    "To test the whole code.\n",
    "Can change values to see different effects."
   ]
  },
  {
   "cell_type": "code",
   "execution_count": 32,
   "metadata": {},
   "outputs": [
    {
     "name": "stdout",
     "output_type": "stream",
     "text": [
      "MAX_DISTANCE\n",
      "100\n",
      "\n",
      "Matrix\n",
      "        0   1   2   3   4   5   6   7   8   9\n",
      "    -----------------------------------------\n",
      " 0 |    ∞   6  94  33  36  75  63  13  34   7\n",
      " 1 |    6   ∞  96  44  90  51  88  55  99  83\n",
      " 2 |   94  96   ∞  18  42  38  92  85  40   9\n",
      " 3 |   33  44  18   ∞  54  50  14  11   7  33\n",
      " 4 |   36  90  42  54   ∞  74  53  42  37  66\n",
      " 5 |   75  51  38  50  74   ∞  31  49  44  61\n",
      " 6 |   63  88  92  14  53  31   ∞  95  72  19\n",
      " 7 |   13  55  85  11  42  49  95   ∞  77  93\n",
      " 8 |   34  99  40   7  37  44  72  77   ∞  45\n",
      " 9 |    7  83   9  33  66  61  19  93  45   ∞\n",
      "\n",
      "\n",
      "Population\n",
      "10\n",
      "\n",
      "Mutation in %\n",
      "0.05\n",
      "\n",
      "Amount of generations created\n",
      "100\n",
      "\n",
      "Running ------------------------\n",
      "\n",
      "Initial best route: \n",
      "441\n",
      "[7, 3, 9, 8, 2, 1, 0, 6, 5, 4]\n",
      "\n",
      "Final best route: \n",
      "236\n",
      "[9, 2, 1, 6, 3, 8, 5, 4, 0, 7]\n",
      "\n",
      "Improvement\n",
      "46.489999999999995 %\n",
      "\n",
      "-----------------------\n",
      "\n",
      "Improvement over Time Graph\n"
     ]
    },
    {
     "data": {
      "image/png": "[encoded data removed]",
      "text/plain": [
       "<Figure size 432x288 with 1 Axes>"
      ]
     },
     "metadata": {
      "needs_background": "light"
     },
     "output_type": "display_data"
    }
   ],
   "source": [
    "'''Inputs'''\n",
    "'''Max distance between nodes in matrice'''\n",
    "MAX_DISTANCE = 100\n",
    "'''Select number of nodes wanted in the type of matrice wanted'''\n",
    "'''G = random_euclidean_graph(15)'''\n",
    "G = random_symmetric_graph(10)\n",
    "'''Choose the population of travelers, amount of routes in a generation'''\n",
    "population = 10\n",
    "'''Mutation rate between 0 and 1'''\n",
    "mutation=0.05\n",
    "'''Number of generations wanted'''\n",
    "generations = 100\n",
    "\n",
    "\n",
    "print(\"MAX_DISTANCE\")\n",
    "print(MAX_DISTANCE)\n",
    "\n",
    "print(\"\\nMatrix\")\n",
    "show(G)\n",
    "\n",
    "print(\"\\nPopulation\")\n",
    "print(population)\n",
    "\n",
    "print(\"\\nMutation in %\")\n",
    "print(mutation)\n",
    "\n",
    "print(\"\\nAmount of generations created\")\n",
    "print(generations)\n",
    "\n",
    "print(\"\\nRunning ------------------------\\n\")\n",
    "genetic_start_ts = datetime.now()\n",
    "genetic_results = geneticAlgorithm(population, G, mutation, generations)\n",
    "genetic_processing_time = (datetime.now() - genetic_start_ts).total_seconds()\n",
    "\n",
    "print(\"\\n-----------------------\\n\")\n",
    "\n",
    "print(\"Improvement over Time Graph\")\n",
    "\n",
    "\n",
    "def graph(results):\n",
    "    bestRoute = results[:]\n",
    "    bestRoute.sort()\n",
    "    bestRoute = bestRoute[0]\n",
    "    genList = []\n",
    "    for i in range(0,len(results)):\n",
    "        genList.append(i)\n",
    "    plt.plot(genList, results)\n",
    "    line_init = plt.axhline(y=results[0], color='r', linestyle='--')\n",
    "    line_min = plt.axhline(y=bestRoute, color='g', linestyle='--')\n",
    "    plt.legend([line_init, line_min], ['Initial best route value', 'Optimized best route value'])\n",
    "    plt.ylabel('Best Route Value')\n",
    "    plt.xlabel('Generation')\n",
    "    plt.show()\n",
    "    \n",
    "graph(genetic_results)\n",
    "    "
   ]
  },
  {
   "cell_type": "markdown",
   "metadata": {},
   "source": [
    "# Bruteforce Implementation for stats"
   ]
  },
  {
   "cell_type": "code",
   "execution_count": 24,
   "metadata": {},
   "outputs": [
    {
     "name": "stdout",
     "output_type": "stream",
     "text": [
      "Bruteforce results:\n",
      "\tBest score: 266\n",
      "\tBest path:  (0, 6, 4, 2, 8, 5, 3, 7, 1, 9)\n",
      "\tExecution time: 6.722398 seconds\n"
     ]
    }
   ],
   "source": [
    "from itertools import permutations\n",
    "from datetime import datetime\n",
    "\n",
    "def get_best_score_brute_force(nodes_matrix, paths):\n",
    "    best_score = 0\n",
    "    best_solution = []\n",
    "\n",
    "    for path in paths:\n",
    "        score = 0\n",
    "\n",
    "        for i in range(1, len(path)):\n",
    "            score += nodes_matrix[path[i-1]][path[i]]\n",
    "\n",
    "        score += nodes_matrix[path[-1]][path[0]]\n",
    "\n",
    "        if best_score == 0 or score < best_score:\n",
    "            best_score = score\n",
    "            best_solution = path\n",
    "\n",
    "    return (best_score, best_solution)\n",
    "\n",
    "bruteforce_start_ts = datetime.now()\n",
    "all_permutations = list(permutations(range(len(G[0]))))\n",
    "bf_result = get_best_score_brute_force(G, all_permutations)\n",
    "bruteforce_precessing_time = (datetime.now() - bruteforce_start_ts).total_seconds()\n",
    "\n",
    "print(\"Bruteforce results:\")\n",
    "print(\"\\tBest score:\", bf_result[0])\n",
    "print(\"\\tBest path: \", bf_result[1])\n",
    "print(\"\\tExecution time:\", bruteforce_precessing_time, \"seconds\")"
   ]
  },
  {
   "cell_type": "markdown",
   "metadata": {},
   "source": [
    "# Statistics"
   ]
  },
  {
   "cell_type": "code",
   "execution_count": 35,
   "metadata": {},
   "outputs": [
    {
     "name": "stdout",
     "output_type": "stream",
     "text": [
      "Bruteforce results:\n",
      "\tBest score: 266\n",
      "\tExecution time: 6.722398 seconds\n",
      "\n",
      "Genetic Algorithm results:\n",
      "\tBest score: 441\n",
      "\tExecution time: 0.023953 seconds\n"
     ]
    }
   ],
   "source": [
    "print(\"Bruteforce results:\")\n",
    "print(\"\\tBest score:\", bf_result[0])\n",
    "print(\"\\tExecution time:\", bruteforce_precessing_time, \"seconds\")\n",
    "\n",
    "print()\n",
    "\n",
    "print(\"Genetic Algorithm results:\")\n",
    "print(\"\\tBest score:\", genetic_results[0])\n",
    "print(\"\\tExecution time:\", genetic_processing_time, \"seconds\")"
   ]
  },
  {
   "cell_type": "markdown",
   "metadata": {},
   "source": [
    "# Big O time complexity analysis for the Genetic Algorithm"
   ]
  },
  {
   "cell_type": "markdown",
   "metadata": {},
   "source": [
    "The complexity analysis is done for n cities in terms of two parameters P (population size) and G ( number of generations). The complexity for a single route to the nearest neighbour is O(n^2) and for P solutions we can say it's O(Pn^2). For each generation the selection and mutation operator both have complexity of O(Pn). So the overall complexity of the algorithm is O(Pn^2) + O(GnP). "
   ]
  },
  {
   "cell_type": "markdown",
   "metadata": {},
   "source": [
    "Source:\n",
    "* https://towardsdatascience.com/evolution-of-a-salesman-a-complete-genetic-algorithm-tutorial-for-python-6fe5d2b3ca35\n",
    "*  https://www.geeksforgeeks.org/traveling-salesman-problem-using-genetic-algorithm/ (in C++)\n",
    "* http://www.theprojectspot.com/tutorial-post/applying-a-genetic-algorithm-to-the-travelling-salesman-problem/5\n",
    "* https://www.youtube.com/watch?v=XP8R0yzAbdo"
   ]
  },
  {
   "cell_type": "code",
   "execution_count": null,
   "metadata": {},
   "outputs": [],
   "source": []
  }
 ],
 "metadata": {
  "kernelspec": {
   "display_name": "Python 3",
   "language": "python",
   "name": "python3"
  },
  "language_info": {
   "codemirror_mode": {
    "name": "ipython",
    "version": 3
   },
   "file_extension": ".py",
   "mimetype": "text/x-python",
   "name": "python",
   "nbconvert_exporter": "python",
   "pygments_lexer": "ipython3",
   "version": "3.7.6"
  }
 },
 "nbformat": 4,
 "nbformat_minor": 4
}
