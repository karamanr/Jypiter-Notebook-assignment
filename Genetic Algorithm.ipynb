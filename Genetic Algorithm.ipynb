{
 "cells": [
  {
   "cell_type": "code",
   "execution_count": 24,
   "metadata": {
    "scrolled": true
   },
   "outputs": [],
   "source": [
    "from random import randint, choice, shuffle\n",
    "from pprint import pprint\n",
    "from itertools import permutations\n",
    "from math import inf as oo # Infinity (∞) is larger than any number\n",
    "from math import sqrt\n",
    "from time      import time\n",
    "import matplotlib.pyplot as plt\n",
    "import copy\n",
    "import random\n",
    "\n",
    "MAX_DISTANCE = 100\n",
    "\n",
    "def random_symmetric_graph(n):\n",
    "    ''' Symmetric adjacency matrix of size nxn '''\n",
    "    dist_matrix = [[oo for _ in range(n)] for _ in range(n)]\n",
    "    for i in range(n):\n",
    "        for j in range(i+1,n):\n",
    "            v = randint(1,MAX_DISTANCE)\n",
    "            dist_matrix[i][j] = v\n",
    "            dist_matrix[j][i] = v\n",
    "    return dist_matrix\n",
    "\n",
    "def random_euclidean_graph(n):\n",
    "    ''' Symmetric adjacency matrix of a Euclidean graph of size nxn '''\n",
    "    dist_matrix = [[oo for _ in range(n)] for _ in range(n)]\n",
    "    points = []\n",
    "    for p in range(n):\n",
    "        x,y = randint(0,MAX_DISTANCE), randint(0,MAX_DISTANCE)\n",
    "        points.append((x,y))\n",
    "    for i in range(n):\n",
    "        p1 = points[i]\n",
    "        for j in range(i+1,n):\n",
    "            p2 = points[j]\n",
    "            distance = sqrt((p1[0]-p2[0])**2+(p1[1]-p2[1])**2)\n",
    "            dist_matrix[i][j] = distance\n",
    "            dist_matrix[j][i] = distance\n",
    "    return dist_matrix\n",
    "\n",
    "def show(G):\n",
    "    ''' Show adjacency matrix. Useful for debugging. '''\n",
    "    n = len(G)\n",
    "    r = \"     \"\n",
    "    for i in range(n):\n",
    "        r += f'{i:4}'\n",
    "    r += '\\n    -'+'-'*(4*n)+'\\n'\n",
    "    for i in range(n):\n",
    "        r += f'{i:2} | '\n",
    "        for j in range(n):\n",
    "            r += f'{G[i][j]:4}'\n",
    "        r += '\\n'\n",
    "    r = r.replace('inf', '  ∞')\n",
    "    print(r)\n",
    "\n",
    "def cost(G, cycle):\n",
    "    ''' Calculate the cost of the given cycle '''\n",
    "    c = 0\n",
    "    n = len(G)\n",
    "    for i in range(n):\n",
    "        a = cycle[i]\n",
    "        b = cycle[(i+1)%n]\n",
    "        c += G[a][b]\n",
    "    return c"
   ]
  },
  {
   "cell_type": "markdown",
   "metadata": {},
   "source": [
    "# Example"
   ]
  },
  {
   "cell_type": "code",
   "execution_count": 5,
   "metadata": {},
   "outputs": [
    {
     "name": "stdout",
     "output_type": "stream",
     "text": [
      "        0   1   2   3   4\n",
      "    ---------------------\n",
      " 0 |    ∞  87  84  32  42\n",
      " 1 |   87   ∞   3  64  63\n",
      " 2 |   84   3   ∞  46   3\n",
      " 3 |   32  64  46   ∞  90\n",
      " 4 |   42  63   3  90   ∞\n",
      "\n"
     ]
    }
   ],
   "source": [
    "G=random_symmetric_graph(5)\n",
    "show(G)"
   ]
  },
  {
   "cell_type": "code",
   "execution_count": 4,
   "metadata": {},
   "outputs": [
    {
     "name": "stdout",
     "output_type": "stream",
     "text": [
      "        0   1   2   3   4\n",
      "    ---------------------\n",
      " 0 |    ∞42.0475920832572826.3058928759318151.47815070493500469.12307863514182\n",
      " 1 | 42.04759208325728   ∞17.0880074906350653.3104117410473631.400636936215164\n",
      " 2 | 26.3058928759318117.08800749063506   ∞43.28972164382672443.01162633521314\n",
      " 3 | 51.47815070493500453.3104117410473643.289721643826724   ∞54.91812087098393\n",
      " 4 | 69.1230786351418231.40063693621516443.0116263352131454.91812087098393   ∞\n",
      "\n"
     ]
    }
   ],
   "source": [
    "G=random_euclidean_graph(5)\n",
    "show(G)"
   ]
  },
  {
   "cell_type": "code",
   "execution_count": 7,
   "metadata": {},
   "outputs": [
    {
     "name": "stdout",
     "output_type": "stream",
     "text": [
      "[[inf, 87, 84, 32, 42], [87, inf, 3, 64, 63], [84, 3, inf, 46, 3], [32, 64, 46, inf, 90], [42, 63, 3, 90, inf]]\n"
     ]
    }
   ],
   "source": [
    "print(G)"
   ]
  },
  {
   "cell_type": "code",
   "execution_count": 8,
   "metadata": {},
   "outputs": [
    {
     "name": "stdout",
     "output_type": "stream",
     "text": [
      "5\n"
     ]
    }
   ],
   "source": [
    "print(len(G))"
   ]
  },
  {
   "cell_type": "markdown",
   "metadata": {},
   "source": [
    "# Traveling Salesman Problem using Genetic Algorithm"
   ]
  },
  {
   "cell_type": "markdown",
   "metadata": {},
   "source": [
    "Source:\n",
    "* https://towardsdatascience.com/evolution-of-a-salesman-a-complete-genetic-algorithm-tutorial-for-python-6fe5d2b3ca35\n",
    "*  https://www.geeksforgeeks.org/traveling-salesman-problem-using-genetic-algorithm/ (in C++)\n",
    "* http://www.theprojectspot.com/tutorial-post/applying-a-genetic-algorithm-to-the-travelling-salesman-problem/5\n",
    "* https://www.youtube.com/watch?v=XP8R0yzAbdo"
   ]
  },
  {
   "cell_type": "markdown",
   "metadata": {},
   "source": [
    "1. Randomly generate cycles of possible edges with given nodes"
   ]
  },
  {
   "cell_type": "code",
   "execution_count": 28,
   "metadata": {},
   "outputs": [
    {
     "name": "stdout",
     "output_type": "stream",
     "text": [
      "[3, 0, 1, 2, 4]\n",
      "[1, 0, 2, 4, 3]\n",
      "[0, 3, 1, 4, 2]\n",
      "[2, 4, 3, 0, 1]\n",
      "[3, 1, 4, 2, 0]\n",
      "[[3, 1, 4, 2, 0]]\n"
     ]
    }
   ],
   "source": [
    "'''Used the shuffle function to create a 'population' sized amount'''\n",
    "'''of possible routes'''\n",
    "def createGen(matrix, population):\n",
    "    genRoot = []\n",
    "    for i in range(0,len(matrix)):\n",
    "        genRoot.append(i)\n",
    "    for i in range(0,population):\n",
    "        genZ = genRoot\n",
    "        random.shuffle(genZ)\n",
    "        print(genZ)\n",
    "        randRoutes = []\n",
    "        if genZ in randRoutes:\n",
    "            while genZ in randRoutes:\n",
    "                random.shuffle(genZ)\n",
    "            randRoutes.append(genZ)\n",
    "        else:\n",
    "            randRoutes.append(genZ)\n",
    "    return randRoutes\n",
    "\n",
    "print(createGen(G,5))\n",
    "        "
   ]
  },
  {
   "cell_type": "markdown",
   "metadata": {},
   "source": [
    "Code to rank each edges"
   ]
  },
  {
   "cell_type": "code",
   "execution_count": null,
   "metadata": {},
   "outputs": [],
   "source": [
    "def rankEdgeLength(matrix):\n",
    "    edgeRank = {}\n",
    "    for i in range(0,len(matrix)):\n",
    "        edgeRank[i] = Fitness(population[i]).routeFitness()\n",
    "    return sorted(fitnessResults.items(), key = operator.itemgetter(1), reverse = True)"
   ]
  }
 ],
 "metadata": {
  "kernelspec": {
   "display_name": "Python 3",
   "language": "python",
   "name": "python3"
  },
  "language_info": {
   "codemirror_mode": {
    "name": "ipython",
    "version": 3
   },
   "file_extension": ".py",
   "mimetype": "text/x-python",
   "name": "python",
   "nbconvert_exporter": "python",
   "pygments_lexer": "ipython3",
   "version": "3.7.6"
  }
 },
 "nbformat": 4,
 "nbformat_minor": 4
}
