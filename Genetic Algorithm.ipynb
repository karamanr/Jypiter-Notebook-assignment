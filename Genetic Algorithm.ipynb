{
 "cells": [
  {
   "cell_type": "markdown",
   "metadata": {},
   "source": [
    "# Generate a random symmetric or euclidean graph"
   ]
  },
  {
   "cell_type": "code",
   "execution_count": 9,
   "metadata": {
    "scrolled": true
   },
   "outputs": [],
   "source": [
    "from random import randint, choice, shuffle, random\n",
    "from pprint import pprint\n",
    "from itertools import permutations\n",
    "from math import inf as oo # Infinity (∞) is larger than any number\n",
    "from math import sqrt\n",
    "from time      import time\n",
    "import matplotlib.pyplot as plt\n",
    "import copy\n",
    "import numpy as np\n",
    "\n",
    "MAX_DISTANCE = 100\n",
    "\n",
    "def random_symmetric_graph(n):\n",
    "    ''' Symmetric adjacency matrix of size nxn '''\n",
    "    dist_matrix = [[oo for _ in range(n)] for _ in range(n)]\n",
    "    for i in range(n):\n",
    "        for j in range(i+1,n):\n",
    "            v = randint(1,MAX_DISTANCE)\n",
    "            dist_matrix[i][j] = v\n",
    "            dist_matrix[j][i] = v\n",
    "    return dist_matrix\n",
    "\n",
    "def random_euclidean_graph(n):\n",
    "    ''' Symmetric adjacency matrix of a Euclidean graph of size nxn '''\n",
    "    dist_matrix = [[oo for _ in range(n)] for _ in range(n)]\n",
    "    points = []\n",
    "    for p in range(n):\n",
    "        x,y = randint(0,MAX_DISTANCE), randint(0,MAX_DISTANCE)\n",
    "        points.append((x,y))\n",
    "    for i in range(n):\n",
    "        p1 = points[i]\n",
    "        for j in range(i+1,n):\n",
    "            p2 = points[j]\n",
    "            distance = sqrt((p1[0]-p2[0])**2+(p1[1]-p2[1])**2)\n",
    "            dist_matrix[i][j] = distance\n",
    "            dist_matrix[j][i] = distance\n",
    "    return dist_matrix\n",
    "\n",
    "def show(G):\n",
    "    ''' Show adjacency matrix. Useful for debugging. '''\n",
    "    n = len(G)\n",
    "    r = \"     \"\n",
    "    for i in range(n):\n",
    "        r += f'{i:4}'\n",
    "    r += '\\n    -'+'-'*(4*n)+'\\n'\n",
    "    for i in range(n):\n",
    "        r += f'{i:2} | '\n",
    "        for j in range(n):\n",
    "            r += f'{G[i][j]:4}'\n",
    "        r += '\\n'\n",
    "    r = r.replace('inf', '  ∞')\n",
    "    print(r)\n",
    "\n",
    "def cost(G, cycle):\n",
    "    ''' Calculate the cost of the given cycle '''\n",
    "    c = 0\n",
    "    n = len(G)\n",
    "    for i in range(n):\n",
    "        a = cycle[i]\n",
    "        b = cycle[(i+1)%n]\n",
    "        c += G[a][b]\n",
    "    return c\n",
    "\n",
    "J = random_euclidean_graph(5)\n",
    "G = random_symmetric_graph(5)\n",
    "show(J)\n",
    "show(G)"
   ]
  },
  {
   "cell_type": "markdown",
   "metadata": {},
   "source": [
    "# Create a first generation of x(population) random possible routes"
   ]
  },
  {
   "cell_type": "markdown",
   "metadata": {},
   "source": [
    "With a given graph, randomly generate a 'population' of possible routes"
   ]
  },
  {
   "cell_type": "markdown",
   "metadata": {},
   "source": [
    "Pseudocode\n",
    "\n"
   ]
  },
  {
   "cell_type": "code",
   "execution_count": 10,
   "metadata": {},
   "outputs": [
    {
     "name": "stdout",
     "output_type": "stream",
     "text": [
      "[[inf, 47, 56, 62, 87], [47, inf, 5, 100, 68], [56, 5, inf, 17, 9], [62, 100, 17, inf, 70], [87, 68, 9, 70, inf]]\n",
      "        0   1   2   3   4\n",
      "    ---------------------\n",
      " 0 |    ∞  47  56  62  87\n",
      " 1 |   47   ∞   5 100  68\n",
      " 2 |   56   5   ∞  17   9\n",
      " 3 |   62 100  17   ∞  70\n",
      " 4 |   87  68   9  70   ∞\n",
      "\n",
      "Genenration 0\n",
      "[[4, 0, 3, 1, 2], [3, 4, 1, 2, 0], [0, 4, 1, 2, 3], [3, 4, 1, 0, 2], [0, 2, 3, 1, 4], [3, 1, 0, 4, 2]]\n"
     ]
    }
   ],
   "source": [
    "G = random_symmetric_graph(5)\n",
    "population = 6\n",
    "show(G)\n",
    "\n",
    "'''Used the shuffle function to generate a 'population' sized amount'''\n",
    "'''of possible routes'''\n",
    "\n",
    "def createGen(matrix, population):\n",
    "    route = []\n",
    "    genZ = [None] * int(population)\n",
    "    for i in range(0,len(matrix)):\n",
    "        route.append(i)\n",
    "    for j in range(0,int(population)):\n",
    "        if j == 0:\n",
    "            np.random.shuffle(route)\n",
    "            newRoute = route[:]\n",
    "            genZ[j] = newRoute\n",
    "        else:\n",
    "            np.random.shuffle(route)\n",
    "            for h in range(0,len(genZ)):\n",
    "                if route == genZ[h]:\n",
    "                    np.random.shuffle(route)\n",
    "            newRoute = route[:]\n",
    "            genZ[j] = newRoute\n",
    "    return genZ\n",
    "\n",
    "print(\"Genenration 0\")        \n",
    "print(createGen(G,6))"
   ]
  },
  {
   "cell_type": "markdown",
   "metadata": {},
   "source": [
    "# Rank the \"fitness\" of these routes aka length"
   ]
  },
  {
   "cell_type": "markdown",
   "metadata": {},
   "source": [
    "We use the values in the graph to create a new list of positiv integer which represents, for each route, the sum of all its edges cost for a loop (TSP), the travelling distance."
   ]
  },
  {
   "cell_type": "markdown",
   "metadata": {},
   "source": [
    "Pseudocode"
   ]
  },
  {
   "cell_type": "code",
   "execution_count": 11,
   "metadata": {},
   "outputs": [
    {
     "name": "stdout",
     "output_type": "stream",
     "text": [
      "        0   1   2   3   4\n",
      "    ---------------------\n",
      " 0 |    ∞  47  56  62  87\n",
      " 1 |   47   ∞   5 100  68\n",
      " 2 |   56   5   ∞  17   9\n",
      " 3 |   62 100  17   ∞  70\n",
      " 4 |   87  68   9  70   ∞\n",
      "\n",
      "Genenration 0\n",
      "[[0, 1, 4, 2, 3], [1, 2, 0, 3, 4], [1, 3, 4, 0, 2], [4, 3, 2, 1, 0], [1, 4, 0, 2, 3], [1, 0, 3, 2, 4]]\n",
      "Fitness\n",
      "[203, 261, 318, 226, 328, 203]\n"
     ]
    }
   ],
   "source": [
    "def fitness(matrix, routes):\n",
    "    fitnessRanking = []\n",
    "    for i in range(0, len(routes)):\n",
    "        fitnessTotal = 0\n",
    "        for j in range(0,len(matrix)):\n",
    "            if j + 1 < len(matrix):\n",
    "                fitnessTotal = fitnessTotal + int(matrix[routes[i][j]][routes[i][j+1]])\n",
    "            else:\n",
    "                fitnessTotal = fitnessTotal + int(matrix[routes[i][j]][routes[i][0]])\n",
    "        fitnessRanking.append(fitnessTotal)\n",
    "    return fitnessRanking\n",
    "\n",
    "show(G)\n",
    "print(\"Genenration 0\")        \n",
    "genZ = createGen(G,6)\n",
    "print(genZ)\n",
    "print(\"Fitness\")\n",
    "ranking = fitness(G, genZ)\n",
    "print(ranking)"
   ]
  },
  {
   "cell_type": "markdown",
   "metadata": {},
   "source": [
    "# Choose the parents for mating with Elitism"
   ]
  },
  {
   "cell_type": "markdown",
   "metadata": {},
   "source": [
    "We then find the two routes with the lowest traveling distance by copying and sorting the rank list into a new list to find the top two.\n",
    "Then we find the position of them in the ranking list and in so in the routes list"
   ]
  },
  {
   "cell_type": "markdown",
   "metadata": {},
   "source": [
    "Pseudocode\n"
   ]
  },
  {
   "cell_type": "code",
   "execution_count": 12,
   "metadata": {},
   "outputs": [
    {
     "name": "stdout",
     "output_type": "stream",
     "text": [
      "[0, 1, 4, 2, 3]\n",
      "[0, 1, 4, 2, 3]\n"
     ]
    }
   ],
   "source": [
    "def first(ranking, routes):\n",
    "    sortedRank = ranking[:]\n",
    "    sortedRank.sort()\n",
    "    firstPos = ranking.index(sortedRank[0])\n",
    "    firstRoute = routes[firstPos]\n",
    "    return firstRoute\n",
    "\n",
    "def second(ranking, routes):\n",
    "    sortedRank = ranking[:]\n",
    "    sortedRank.sort()\n",
    "    secondPos = ranking.index(sortedRank[1])\n",
    "    secondRoute = routes[secondPos]\n",
    "    return secondRoute\n",
    "    \n",
    "win = first(ranking, genZ)\n",
    "print(win)\n",
    "win2 = second(ranking, genZ)\n",
    "print(win2)\n",
    "    "
   ]
  },
  {
   "cell_type": "markdown",
   "metadata": {},
   "source": [
    "# Breeding"
   ]
  },
  {
   "cell_type": "markdown",
   "metadata": {},
   "source": [
    "We then breed the those two routes together to create a new generation of routes.\n",
    "To do so we take a random segment of random lentgh of the first parent and then put into the child (same segment in same position).\n",
    "Then we fill in from next index in the child with the second parents nodes."
   ]
  },
  {
   "cell_type": "markdown",
   "metadata": {},
   "source": [
    "Pseudocode"
   ]
  },
  {
   "cell_type": "code",
   "execution_count": 13,
   "metadata": {},
   "outputs": [
    {
     "name": "stdout",
     "output_type": "stream",
     "text": [
      "[[1, 0, 4, 2, 3], [1, 0, 4, 2, 3], [0, 1, 4, 2, 3], [0, 1, 4, 2, 3], [1, 0, 4, 2, 3], [1, 4, 2, 0, 3]]\n"
     ]
    }
   ],
   "source": [
    "def breed(parent1, parent2, population):\n",
    "    nextGen = []\n",
    "    \n",
    "    for i in range(0,population):\n",
    "        child = []\n",
    "        childP1 = []\n",
    "        childP2 = []\n",
    "    \n",
    "    \n",
    "        geneA = int(np.random.random() * len(parent1))\n",
    "        geneB = int(np.random.random() * len(parent1))\n",
    "    \n",
    "        startGene = min(geneA, geneB)\n",
    "        endGene = max(geneA, geneB)\n",
    "    \n",
    "        for i in range(startGene, endGene):\n",
    "            childP1.append(parent1[i])\n",
    "        \n",
    "        childP2 = [item for item in parent2 if item not in childP1]\n",
    "        child = childP1 + childP2\n",
    "        nextGen.append(child)\n",
    "    \n",
    "    return nextGen\n",
    "    \n",
    "nextGen = breed(win, win2, population)\n",
    "print(nextGen)"
   ]
  },
  {
   "cell_type": "markdown",
   "metadata": {},
   "source": [
    "# Mutation"
   ]
  },
  {
   "cell_type": "markdown",
   "metadata": {},
   "source": [
    "We also randomly mutate each child route with a decided rate.\n",
    "We apply it to a whole gen to make it easier."
   ]
  },
  {
   "cell_type": "code",
   "execution_count": 16,
   "metadata": {},
   "outputs": [
    {
     "name": "stdout",
     "output_type": "stream",
     "text": [
      "[[1, 0, 4, 2, 3], [1, 0, 4, 2, 3], [0, 1, 4, 2, 3], [0, 1, 4, 2, 3], [1, 0, 4, 2, 3], [1, 4, 2, 0, 3]]\n"
     ]
    }
   ],
   "source": [
    "'''Mutation rate set to 5%'''\n",
    "\n",
    "mutation = 0.05\n",
    "\n",
    "def mutate(child, mutationRate):\n",
    "    for swapped in range(len(child)):\n",
    "        if(np.random.random() <= mutationRate):\n",
    "            swapWith = int(np.random.random() * len(child))\n",
    "            \n",
    "            node1 = child[swapped]\n",
    "            node2 = child[swapWith]\n",
    "            \n",
    "            child[swapped] = node2\n",
    "            child[swapWith] = node1\n",
    "    return child\n",
    "\n",
    "def mutateGen(currentGen, mutationRate, population):\n",
    "    mutatedGen = []\n",
    "    \n",
    "    for child in range(0, population):\n",
    "        mutatedChild = mutate(currentGen[child], mutationRate)\n",
    "        mutatedGen.append(mutatedChild)\n",
    "        \n",
    "    return mutatedGen\n",
    "\n",
    "mutatedGen = mutateGen(nextGen,mutation, population)\n",
    "print(mutatedGen)"
   ]
  },
  {
   "cell_type": "markdown",
   "metadata": {},
   "source": [
    "# Repeat"
   ]
  },
  {
   "cell_type": "markdown",
   "metadata": {},
   "source": [
    "A function to repeat this whole cycle of ranking, breeding and mutating to create a new generation"
   ]
  },
  {
   "cell_type": "markdown",
   "metadata": {},
   "source": [
    "Pseudocode\n"
   ]
  },
  {
   "cell_type": "code",
   "execution_count": 17,
   "metadata": {},
   "outputs": [
    {
     "name": "stdout",
     "output_type": "stream",
     "text": [
      "[[2, 0, 1, 4, 3], [4, 2, 0, 1, 3], [1, 0, 4, 2, 3], [0, 3, 4, 2, 1], [0, 1, 4, 2, 3], [1, 0, 4, 2, 3]]\n"
     ]
    }
   ],
   "source": [
    "\n",
    "def nextGeneration(mutatedGen, population, mutationRate):\n",
    "    rank = fitness(G, mutatedGen)\n",
    "    parent1 = first(rank, mutatedGen)\n",
    "    parent2 = second(rank, mutatedGen)\n",
    "    currentGen = breed(parent1, parent2, population)\n",
    "    nextGeneration = mutateGen(currentGen, mutationRate, population)\n",
    "    return nextGeneration\n",
    "\n",
    "print(nextGeneration(mutatedGen, population, mutation))"
   ]
  },
  {
   "cell_type": "markdown",
   "metadata": {},
   "source": [
    "# Evolution"
   ]
  },
  {
   "cell_type": "markdown",
   "metadata": {},
   "source": [
    "Allows us to see the evolution of the routes after x generations, starting by showing us the first best route with its value and finishing by showing us the new best one."
   ]
  },
  {
   "cell_type": "markdown",
   "metadata": {},
   "source": [
    "Pseudocode\n"
   ]
  },
  {
   "cell_type": "code",
   "execution_count": 48,
   "metadata": {},
   "outputs": [
    {
     "name": "stdout",
     "output_type": "stream",
     "text": [
      "Initial best route: \n",
      "320\n",
      "[1, 9, 2, 3, 8, 6, 5, 0, 7, 4]\n",
      "\n",
      "Final best route: \n",
      "248\n",
      "[1, 0, 3, 2, 4, 6, 5, 8, 9, 7]\n"
     ]
    }
   ],
   "source": [
    "def geneticAlgorithm(population, matrix, mutationRate, generations):\n",
    "    gen = createGen(matrix, population)\n",
    "    rank = fitness(G, gen)\n",
    "    rank.sort()\n",
    "    print(\"Initial best route: \")\n",
    "    print(rank[0])\n",
    "    initBestRouteVal = rank[0]\n",
    "    print(first(rank, gen))\n",
    "    initBestRoute = first(rank, gen)\n",
    "    \n",
    "    for i in range(0, int(generations)):\n",
    "        gen = nextGeneration(gen, population, mutationRate)\n",
    "    \n",
    "    rank = fitness(G, gen)\n",
    "    rank.sort()\n",
    "    print(\"\\nFinal best route: \")\n",
    "    print(rank[0])\n",
    "    finalBestRouteVal = rank[0]\n",
    "    print(first(rank, gen))\n",
    "    finalBestRoute = first(rank, gen)\n",
    "    return (initBestRoute, finalBestRoute, initBestRouteVal, finalBestRouteVal)\n",
    "\n",
    "bestRoute = geneticAlgorithm(population, G, mutation, 10)"
   ]
  },
  {
   "cell_type": "markdown",
   "metadata": {},
   "source": [
    "# Test"
   ]
  },
  {
   "cell_type": "markdown",
   "metadata": {},
   "source": [
    "To test the whole code.\n",
    "Can change values to see different effects."
   ]
  },
  {
   "cell_type": "code",
   "execution_count": 56,
   "metadata": {},
   "outputs": [
    {
     "name": "stdout",
     "output_type": "stream",
     "text": [
      "MAX_DISTANCE\n",
      "100\n",
      "\n",
      "Matrix\n",
      "        0   1   2   3   4   5   6   7   8   9\n",
      "    -----------------------------------------\n",
      " 0 |    ∞  15  58  19  22  60  42   7  78  91\n",
      " 1 |   15   ∞  17  31  60  88  74  29   7  33\n",
      " 2 |   58  17   ∞  46  92  68  32  10  13  57\n",
      " 3 |   19  31  46   ∞  47  14  72  29  31  86\n",
      " 4 |   22  60  92  47   ∞  69  25  52  89  15\n",
      " 5 |   60  88  68  14  69   ∞  70   6  82  42\n",
      " 6 |   42  74  32  72  25  70   ∞  29   7   1\n",
      " 7 |    7  29  10  29  52   6  29   ∞  78  59\n",
      " 8 |   78   7  13  31  89  82   7  78   ∞   7\n",
      " 9 |   91  33  57  86  15  42   1  59   7   ∞\n",
      "\n",
      "\n",
      "Population\n",
      "100\n",
      "\n",
      "Mutation in %\n",
      "0.05\n",
      "\n",
      "Amount of generations created\n",
      "1000\n",
      "\n",
      "Running ------------------------\n",
      "Initial best route: \n",
      "250\n",
      "[1, 6, 5, 2, 3, 4, 8, 9, 7, 0]\n",
      "\n",
      "Final best route: \n",
      "118\n",
      "[2, 1, 7, 5, 3, 0, 4, 9, 6, 8]\n",
      "\n",
      "Improvement\n",
      "52.800000000000004 %\n"
     ]
    }
   ],
   "source": [
    "print(\"MAX_DISTANCE\")\n",
    "MAX_DISTANCE = 100\n",
    "print(MAX_DISTANCE)\n",
    "\n",
    "G = random_symmetric_graph(10)\n",
    "print(\"\\nMatrix\")\n",
    "show(G)\n",
    "\n",
    "print(\"\\nPopulation\")\n",
    "population = 100\n",
    "print(population)\n",
    "\n",
    "print(\"\\nMutation in %\")\n",
    "mutation=0.05\n",
    "print(mutation)\n",
    "\n",
    "print(\"\\nAmount of generations created\")\n",
    "generations = 1000\n",
    "print(generations)\n",
    "\n",
    "print(\"\\nRunning ------------------------\")\n",
    "results = geneticAlgorithm(population, G, mutation, generations)\n",
    "\n",
    "\n",
    "print(\"\\nImprovement\")\n",
    "print(round((results[2] - results[3]) / (results[2]), 4) * 100, '%')"
   ]
  },
  {
   "cell_type": "markdown",
   "metadata": {},
   "source": [
    "Source:\n",
    "* https://towardsdatascience.com/evolution-of-a-salesman-a-complete-genetic-algorithm-tutorial-for-python-6fe5d2b3ca35\n",
    "*  https://www.geeksforgeeks.org/traveling-salesman-problem-using-genetic-algorithm/ (in C++)\n",
    "* http://www.theprojectspot.com/tutorial-post/applying-a-genetic-algorithm-to-the-travelling-salesman-problem/5\n",
    "* https://www.youtube.com/watch?v=XP8R0yzAbdo"
   ]
  }
 ],
 "metadata": {
  "kernelspec": {
   "display_name": "Python 3",
   "language": "python",
   "name": "python3"
  },
  "language_info": {
   "codemirror_mode": {
    "name": "ipython",
    "version": 3
   },
   "file_extension": ".py",
   "mimetype": "text/x-python",
   "name": "python",
   "nbconvert_exporter": "python",
   "pygments_lexer": "ipython3",
   "version": "3.7.6"
  }
 },
 "nbformat": 4,
 "nbformat_minor": 4
}
