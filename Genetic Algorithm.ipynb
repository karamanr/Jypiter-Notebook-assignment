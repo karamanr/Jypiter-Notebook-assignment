{
 "cells": [
  {
   "cell_type": "markdown",
   "metadata": {},
   "source": [
    "# Generate a random symmetric or euclidean graph"
   ]
  },
  {
   "cell_type": "markdown",
   "metadata": {},
   "source": [
    "Given for the task"
   ]
  },
  {
   "cell_type": "code",
   "execution_count": 126,
   "metadata": {
    "scrolled": true
   },
   "outputs": [
    {
     "name": "stdout",
     "output_type": "stream",
     "text": [
      "        0   1   2   3   4\n",
      "    ---------------------\n",
      " 0 |    ∞86.9770084562581373.4302390027432894.0212741883452777.15568676384133\n",
      " 1 | 86.97700845625813   ∞21.47091055358388833.2415402771893243.840620433565945\n",
      " 2 | 73.4302390027432821.470910553583888   ∞24.16609194718914524.186773244895647\n",
      " 3 | 94.0212741883452733.2415402771893224.166091947189145   ∞22.02271554554524\n",
      " 4 | 77.1556867638413343.84062043356594524.18677324489564722.02271554554524   ∞\n",
      "\n",
      "        0   1   2   3   4\n",
      "    ---------------------\n",
      " 0 |    ∞  30  98  72  23\n",
      " 1 |   30   ∞  31  60  68\n",
      " 2 |   98  31   ∞  46  68\n",
      " 3 |   72  60  46   ∞  20\n",
      " 4 |   23  68  68  20   ∞\n",
      "\n"
     ]
    }
   ],
   "source": [
    "from random import randint, choice, shuffle, random\n",
    "from pprint import pprint\n",
    "from itertools import permutations\n",
    "from math import inf as oo # Infinity (∞) is larger than any number\n",
    "from math import sqrt\n",
    "from time      import time\n",
    "import matplotlib.pyplot as plt\n",
    "import copy\n",
    "import numpy as np\n",
    "\n",
    "MAX_DISTANCE = 100\n",
    "\n",
    "def random_symmetric_graph(n):\n",
    "    ''' Symmetric adjacency matrix of size nxn '''\n",
    "    dist_matrix = [[oo for _ in range(n)] for _ in range(n)]\n",
    "    for i in range(n):\n",
    "        for j in range(i+1,n):\n",
    "            v = randint(1,MAX_DISTANCE)\n",
    "            dist_matrix[i][j] = v\n",
    "            dist_matrix[j][i] = v\n",
    "    return dist_matrix\n",
    "\n",
    "def random_euclidean_graph(n):\n",
    "    ''' Symmetric adjacency matrix of a Euclidean graph of size nxn '''\n",
    "    dist_matrix = [[oo for _ in range(n)] for _ in range(n)]\n",
    "    points = []\n",
    "    for p in range(n):\n",
    "        x,y = randint(0,MAX_DISTANCE), randint(0,MAX_DISTANCE)\n",
    "        points.append((x,y))\n",
    "    for i in range(n):\n",
    "        p1 = points[i]\n",
    "        for j in range(i+1,n):\n",
    "            p2 = points[j]\n",
    "            distance = sqrt((p1[0]-p2[0])**2+(p1[1]-p2[1])**2)\n",
    "            dist_matrix[i][j] = distance\n",
    "            dist_matrix[j][i] = distance\n",
    "    return dist_matrix\n",
    "\n",
    "def show(G):\n",
    "    ''' Show adjacency matrix. Useful for debugging. '''\n",
    "    n = len(G)\n",
    "    r = \"     \"\n",
    "    for i in range(n):\n",
    "        r += f'{i:4}'\n",
    "    r += '\\n    -'+'-'*(4*n)+'\\n'\n",
    "    for i in range(n):\n",
    "        r += f'{i:2} | '\n",
    "        for j in range(n):\n",
    "            r += f'{G[i][j]:4}'\n",
    "        r += '\\n'\n",
    "    r = r.replace('inf', '  ∞')\n",
    "    print(r)\n",
    "\n",
    "def cost(G, cycle):\n",
    "    ''' Calculate the cost of the given cycle '''\n",
    "    c = 0\n",
    "    n = len(G)\n",
    "    for i in range(n):\n",
    "        a = cycle[i]\n",
    "        b = cycle[(i+1)%n]\n",
    "        c += G[a][b]\n",
    "    return c\n",
    "\n",
    "J = random_euclidean_graph(5)\n",
    "G = random_symmetric_graph(5)\n",
    "show(J)\n",
    "show(G)"
   ]
  },
  {
   "cell_type": "markdown",
   "metadata": {},
   "source": [
    "# Create a generation of x possible routes"
   ]
  },
  {
   "cell_type": "markdown",
   "metadata": {},
   "source": [
    "With a given graph, randomly generate a 'population' of possible routes"
   ]
  },
  {
   "cell_type": "raw",
   "metadata": {},
   "source": [
    "Pseudocode\n",
    "\n",
    "Algorithm 1 Create a generation of x possible routes possibles.\n",
    "Input: An integer x of travelers and the Matrice M.\n",
    "Output: A list of lentgh x of sublists of unique routes possible for a TSP.\n",
    "\n",
    "1 :    route <- []\n",
    "2 :    genZ <- [None] * travelers\n",
    "3 :    \n",
    "4 :    for i <- 0,...,length(M) do\n",
    "5 :        route[i] <- i\n",
    "6 :    end for\n",
    "7 :\n",
    "8 :    for j <- 0,...,x do\n",
    "9 :        if j = 0 then\n",
    "10:            shuffle(route)\n",
    "11:            genZ[j] <- route\n",
    "12:        else\n",
    "13:            shuffle(route)\n",
    "14:            for h <- 0,...,length(genZ) do\n",
    "15:                if route = genZ[h] then\n",
    "16:                    shuffle(route)\n",
    "17:                end if\n",
    "18:            end for\n",
    "19:            genZ[j] <- route\n",
    "20:        end if\n",
    "21:    end for\n",
    "22:    \n",
    "23:    return genZ"
   ]
  },
  {
   "cell_type": "markdown",
   "metadata": {},
   "source": [
    "Code"
   ]
  },
  {
   "cell_type": "code",
   "execution_count": 127,
   "metadata": {},
   "outputs": [
    {
     "name": "stdout",
     "output_type": "stream",
     "text": [
      "\n",
      "Matrice\n",
      "        0   1   2   3   4\n",
      "    ---------------------\n",
      " 0 |    ∞  89   1  91   3\n",
      " 1 |   89   ∞  32  88  11\n",
      " 2 |    1  32   ∞   5  14\n",
      " 3 |   91  88   5   ∞  61\n",
      " 4 |    3  11  14  61   ∞\n",
      "\n",
      "Genenration 0 of routes\n",
      "[[2, 0, 1, 4, 3], [2, 3, 1, 0, 4], [1, 3, 4, 2, 0], [1, 3, 2, 4, 0], [0, 1, 2, 4, 3], [1, 2, 3, 0, 4]]\n"
     ]
    }
   ],
   "source": [
    "G = random_symmetric_graph(5)\n",
    "population = 6\n",
    "print(\"\\nMatrice\")\n",
    "show(G)\n",
    "\n",
    "'''Used the shuffle function to generate a 'population' sized amount'''\n",
    "'''of possible routes'''\n",
    "\n",
    "def createGen(matrix, population):\n",
    "    route = []\n",
    "    genZ = [None] * int(population)\n",
    "    for i in range(0,len(matrix)):\n",
    "        route.append(i)\n",
    "    for j in range(0,int(population)):\n",
    "        if j == 0:\n",
    "            np.random.shuffle(route)\n",
    "            newRoute = route[:]\n",
    "            genZ[j] = newRoute\n",
    "        else:\n",
    "            np.random.shuffle(route)\n",
    "            for h in range(0,len(genZ)):\n",
    "                if route == genZ[h]:\n",
    "                    np.random.shuffle(route)\n",
    "            newRoute = route[:]\n",
    "            genZ[j] = newRoute\n",
    "    return genZ\n",
    "\n",
    "print(\"Genenration 0 of routes\")        \n",
    "print(createGen(G,6))"
   ]
  },
  {
   "cell_type": "markdown",
   "metadata": {},
   "source": [
    "# Calculate the length of these routes"
   ]
  },
  {
   "cell_type": "markdown",
   "metadata": {},
   "source": [
    "We use the values in the graph to create a new list of positiv integer which represents, for each route, the sum of all its edges cost for a loop (TSP), the travelling distance."
   ]
  },
  {
   "cell_type": "raw",
   "metadata": {},
   "source": [
    "Pseudocode\n",
    "\n",
    "Algorithm 2 Rank the length of routes with given Matrice that has the values of the routes.\n",
    "Input: List L of different routes and the Matrice M.\n",
    "Output: List valueL of the value of each of routes of L (keeps order of routes).\n",
    "\n",
    "1 :    valueL <- []\n",
    "2 :    for i <- 0,...,length(L) do\n",
    "3 :        currentRouteValTotal <- 0\n",
    "4 :        for j <- 0,...,sizeOfMatrice do\n",
    "5 :            if j + 1 < sizeOfMatrice then\n",
    "6 :                currentRouteValTotal\n",
    "7 :                    <- currentRouteValTotal + M[L[i][j]][L[i][j+1]]\n",
    "8 :            else\n",
    "9 :                currentRouteValTotal \n",
    "10:                    <- currentRouteValTotal + M[L[i][j]][L[i][0]]\n",
    "11:            end if\n",
    "12:        end for\n",
    "13:        valueL[i] <- currentRouteVal\n",
    "14:    end for\n",
    "15:    return valueL"
   ]
  },
  {
   "cell_type": "markdown",
   "metadata": {},
   "source": [
    "Code"
   ]
  },
  {
   "cell_type": "code",
   "execution_count": 128,
   "metadata": {},
   "outputs": [
    {
     "name": "stdout",
     "output_type": "stream",
     "text": [
      "        0   1   2   3   4\n",
      "    ---------------------\n",
      " 0 |    ∞  89   1  91   3\n",
      " 1 |   89   ∞  32  88  11\n",
      " 2 |    1  32   ∞   5  14\n",
      " 3 |   91  88   5   ∞  61\n",
      " 4 |    3  11  14  61   ∞\n",
      "\n",
      "Genenration 0\n",
      "[[2, 3, 4, 1, 0], [0, 2, 4, 3, 1], [1, 2, 3, 0, 4], [3, 1, 2, 4, 0], [0, 4, 2, 1, 3], [3, 2, 1, 4, 0]]\n",
      "Fitness\n",
      "[167, 253, 142, 228, 228, 142]\n"
     ]
    }
   ],
   "source": [
    "def fitness(matrix, routes):\n",
    "    fitnessRanking = []\n",
    "    for i in range(0, len(routes)):\n",
    "        fitnessTotal = 0\n",
    "        for j in range(0,len(matrix)):\n",
    "            if j + 1 < len(matrix):\n",
    "                fitnessTotal = fitnessTotal + int(matrix[routes[i][j]][routes[i][j+1]])\n",
    "            else:\n",
    "                fitnessTotal = fitnessTotal + int(matrix[routes[i][j]][routes[i][0]])\n",
    "        fitnessRanking.append(fitnessTotal)\n",
    "    return fitnessRanking\n",
    "\n",
    "show(G)\n",
    "print(\"Genenration 0\")        \n",
    "genZ = createGen(G,6)\n",
    "print(genZ)\n",
    "print(\"Fitness\")\n",
    "ranking = fitness(G, genZ)\n",
    "print(ranking)"
   ]
  },
  {
   "cell_type": "markdown",
   "metadata": {},
   "source": [
    "# Choose the parents for mating with Elitism"
   ]
  },
  {
   "cell_type": "markdown",
   "metadata": {},
   "source": [
    "We then find the two routes with the lowest traveling distance by copying and sorting the rank list into a new list to find the top two.\n",
    "Then we find the position of them in the ranking list and in so in the routes list"
   ]
  },
  {
   "cell_type": "raw",
   "metadata": {},
   "source": [
    "Pseudocode\n",
    "\n",
    "Algorithm 3 Finds index position of the first/second best value in the list\n",
    "Input: List L of all routes and list valueL of the value of each of routes of L\n",
    "Output:First/second best route\n",
    "\n",
    "1 :    sortedL <- L\n",
    "2 :    sort(sortedL)\n",
    "3 :    firstPos <- valueL.index(sortedL[0])\n",
    "4 :    secondPos <- valueL.index(sortedL[1])\n",
    "5 :    firstRoute <- L[firstPos]\n",
    "6 :    secondRoute <- L[secondPos]\n",
    "7 :    return firstRoute, secondRoute\n"
   ]
  },
  {
   "cell_type": "markdown",
   "metadata": {},
   "source": [
    "Code"
   ]
  },
  {
   "cell_type": "code",
   "execution_count": 129,
   "metadata": {},
   "outputs": [
    {
     "name": "stdout",
     "output_type": "stream",
     "text": [
      "[1, 2, 3, 0, 4]\n",
      "[1, 2, 3, 0, 4]\n"
     ]
    }
   ],
   "source": [
    "def first(ranking, routes):\n",
    "    sortedRank = ranking[:]\n",
    "    sortedRank.sort()\n",
    "    firstPos = ranking.index(sortedRank[0])\n",
    "    firstRoute = routes[firstPos]\n",
    "    return firstRoute\n",
    "\n",
    "def second(ranking, routes):\n",
    "    sortedRank = ranking[:]\n",
    "    sortedRank.sort()\n",
    "    secondPos = ranking.index(sortedRank[1])\n",
    "    secondRoute = routes[secondPos]\n",
    "    return secondRoute\n",
    "    \n",
    "win = first(ranking, genZ)\n",
    "print(win)\n",
    "win2 = second(ranking, genZ)\n",
    "print(win2)\n",
    "    "
   ]
  },
  {
   "cell_type": "markdown",
   "metadata": {},
   "source": [
    "# Breeding"
   ]
  },
  {
   "cell_type": "markdown",
   "metadata": {},
   "source": [
    "We then breed the those two routes together to create a whole new generation of routes.\n",
    "To do so we take a random segment of random lentgh of the first parent and then put into the child (same segment in same position).\n",
    "Then we fill in from next index in the child with the second parents nodes."
   ]
  },
  {
   "cell_type": "raw",
   "metadata": {},
   "source": [
    "Pseudocode\n",
    "\n",
    "Algorithm 4 Breed two routes to create a whole new generation of 'travelers' routes\n",
    "Input: List Route1, List Route2 and the number x of travelers\n",
    "Output: A new generation of routes\n",
    "\n",
    "1 :    nextGen <- []\n",
    "2 :    for i <- 0,...,x do\n",
    "3 :        child <- []\n",
    "4 :        childP1 <- []\n",
    "5 :        childP2 <- []\n",
    "6 :        \n",
    "7 :        geneA <- randomNumber(0 to 1) * length(Route1))\n",
    "8 :        geneA <- integer(geneA)\n",
    "9 :        geneB <- randomNumber(0 to 1) * length(Route2))\n",
    "10:     geneB <- integer(geneA)\n",
    "11:     \n",
    "12:     startGene <- smallestNumberBetween(geneA, geneB)\n",
    "13:     endGene <- maxNumberBetween(geneA, geneB)\n",
    "14:     \n",
    "15:     for i <-- startGene,...,endGene do\n",
    "16:         childP1[i] <- parent1[i]\n",
    "17:     end for\n",
    "18:     \n",
    "19:     childP2 <- [item for item in parent2 if item not in childP1]\n",
    "20:     child <- childP1 + childP2\n",
    "21:     \n",
    "22:     nextGen[i] <- child\n",
    "23: end for\n",
    "24: return nextGen"
   ]
  },
  {
   "cell_type": "markdown",
   "metadata": {},
   "source": [
    "Code"
   ]
  },
  {
   "cell_type": "code",
   "execution_count": 130,
   "metadata": {},
   "outputs": [
    {
     "name": "stdout",
     "output_type": "stream",
     "text": [
      "[[1, 2, 3, 0, 4], [1, 2, 3, 0, 4], [1, 2, 3, 0, 4], [1, 2, 3, 0, 4], [1, 2, 3, 0, 4], [1, 2, 3, 0, 4]]\n"
     ]
    }
   ],
   "source": [
    "def breed(parent1, parent2, population):\n",
    "    nextGen = []\n",
    "    \n",
    "    for i in range(0,population):\n",
    "        child = []\n",
    "        childP1 = []\n",
    "        childP2 = []\n",
    "    \n",
    "    \n",
    "        geneA = int(np.random.random() * len(parent1))\n",
    "        geneB = int(np.random.random() * len(parent1))\n",
    "    \n",
    "        startGene = min(geneA, geneB)\n",
    "        endGene = max(geneA, geneB)\n",
    "    \n",
    "        for i in range(startGene, endGene):\n",
    "            childP1.append(parent1[i])\n",
    "        \n",
    "        childP2 = [item for item in parent2 if item not in childP1]\n",
    "        child = childP1 + childP2\n",
    "        nextGen.append(child)\n",
    "    \n",
    "    return nextGen\n",
    "    \n",
    "nextGen = breed(win, win2, population)\n",
    "print(nextGen)"
   ]
  },
  {
   "cell_type": "markdown",
   "metadata": {},
   "source": [
    "# Mutation"
   ]
  },
  {
   "cell_type": "markdown",
   "metadata": {},
   "source": [
    "We also randomly mutate each child route with a decided rate.\n",
    "We apply it to a whole gen to make it easier."
   ]
  },
  {
   "cell_type": "raw",
   "metadata": {},
   "source": [
    "Pseudocode\n",
    "\n",
    "Algorithm 5 Randomly mutate a route\n",
    "Input: A Route R and a fraction (mutation rate between 0 and 1)\n",
    "Output: A mutated or not route\n",
    "\n",
    "1 :    for swapped <- 0,...,length(R) do\n",
    "2 :        if randomNumber(0 to 1) <= mutationRate then\n",
    "3 :            swapWith <- randomNumber(0 to 1) * length(R)\n",
    "4 :            node1 <- child[swapped]\n",
    "5 :            node2 <- child[swapWith]\n",
    "6 :            child[swapped] <- node2\n",
    "7 :            child[swapWith] <- node1\n",
    "8 :        end if\n",
    "9 :    end for\n",
    "10:    return child\n",
    "\n",
    "\n",
    "\n",
    "Algorithm 6 Randomly mutate a whole generation\n",
    "Input: List of current generation L, a fraction mutationRate(mutation rate between 0 and 1) and the integer x of travelers\n",
    "Output: A mutated generation\n",
    "\n",
    "1 :    L <- []\n",
    "2 :    for child <- 0,...,x do\n",
    "3 :        mutatedChild <- mutate(L[child], mutationRate)\n",
    "4 :        mutatedGen[child] <- mutatedChild\n",
    "5 :    end for\n",
    "6 :    return mutatedGen\n"
   ]
  },
  {
   "cell_type": "markdown",
   "metadata": {},
   "source": [
    "Code"
   ]
  },
  {
   "cell_type": "code",
   "execution_count": 131,
   "metadata": {},
   "outputs": [
    {
     "name": "stdout",
     "output_type": "stream",
     "text": [
      "[[1, 2, 3, 0, 4], [1, 2, 3, 0, 4], [4, 2, 3, 0, 1], [1, 2, 3, 0, 4], [2, 1, 3, 0, 4], [1, 2, 3, 0, 4]]\n"
     ]
    }
   ],
   "source": [
    "'''Mutation rate set to 5%'''\n",
    "\n",
    "mutation = 0.05\n",
    "\n",
    "def mutate(child, mutationRate):\n",
    "    for swapped in range(len(child)):\n",
    "        if(np.random.random() <= mutationRate):\n",
    "            swapWith = int(np.random.random() * len(child))\n",
    "            \n",
    "            node1 = child[swapped]\n",
    "            node2 = child[swapWith]\n",
    "            \n",
    "            child[swapped] = node2\n",
    "            child[swapWith] = node1\n",
    "    return child\n",
    "\n",
    "def mutateGen(currentGen, mutationRate, population):\n",
    "    mutatedGen = []\n",
    "    \n",
    "    for child in range(0, population):\n",
    "        mutatedChild = mutate(currentGen[child], mutationRate)\n",
    "        mutatedGen.append(mutatedChild)\n",
    "        \n",
    "    return mutatedGen\n",
    "\n",
    "mutatedGen = mutateGen(nextGen,mutation, population)\n",
    "print(mutatedGen)"
   ]
  },
  {
   "cell_type": "markdown",
   "metadata": {},
   "source": [
    "# Repeat"
   ]
  },
  {
   "cell_type": "markdown",
   "metadata": {},
   "source": [
    "A function to be able to repeat this whole cycle of ranking, breeding and mutating to create a new generation"
   ]
  },
  {
   "cell_type": "raw",
   "metadata": {},
   "source": [
    "Pseudocode\n",
    "\n",
    "Algorithm 7 Takes a generation and runs it through the whole process of ranking, breeding and mutating into a new generation\n",
    "Input: A generation of routes G, the integer x of travelers and a fraction (mutation rate between 0 and 1)\n",
    "Output: A new generation of routes\n",
    "\n",
    "1 :    rank <- fitness(G, mutatedGen)\n",
    "2 :    parent1 <- first(rank, mutatedGen)\n",
    "3 :    parent2 <- second(rank, mutatedGen)\n",
    "4 :    currentGen <- breed(parent1, parent2, population)\n",
    "5 :    nextGeneration <- mutateGen(currentGen, mutationRate, population)\n",
    "6 :    return nextGeneration"
   ]
  },
  {
   "cell_type": "markdown",
   "metadata": {},
   "source": [
    "Code"
   ]
  },
  {
   "cell_type": "code",
   "execution_count": 132,
   "metadata": {},
   "outputs": [
    {
     "name": "stdout",
     "output_type": "stream",
     "text": [
      "[[1, 2, 3, 0, 4], [1, 2, 3, 0, 4], [2, 3, 1, 0, 4], [1, 2, 3, 0, 4], [3, 0, 1, 2, 4], [2, 1, 3, 0, 4]]\n"
     ]
    }
   ],
   "source": [
    "\n",
    "def nextGeneration(mutatedGen, population, mutationRate):\n",
    "    rank = fitness(G, mutatedGen)\n",
    "    parent1 = first(rank, mutatedGen)\n",
    "    parent2 = second(rank, mutatedGen)\n",
    "    currentGen = breed(parent1, parent2, population)\n",
    "    nextGeneration = mutateGen(currentGen, mutationRate, population)\n",
    "    return nextGeneration\n",
    "\n",
    "print(nextGeneration(mutatedGen, population, mutation))"
   ]
  },
  {
   "cell_type": "markdown",
   "metadata": {},
   "source": [
    "# Evolution"
   ]
  },
  {
   "cell_type": "markdown",
   "metadata": {},
   "source": [
    "Allows us to see the evolution of the routes after x generations, starting by showing us the first best route with its value and finishing by showing us the new best one."
   ]
  },
  {
   "cell_type": "raw",
   "metadata": {},
   "source": [
    "Pseudocode\n",
    "\n",
    "Algorithm 7 Creates multiple new generations \n",
    "Input: An integer x of traverlers, a matrice M, a mutation rate and an integer y of generations wanted\n",
    "Output: List 'results' of the best route of each generation, a value bestRouteVal of the value of the best route of all generations and bestRoute with the best route of all generations \n",
    "\n",
    "1 :    result <- []\n",
    "2 :    gen <- createGen(M, x)\n",
    "3 :    rank <- fitness(M, gen)\n",
    "4 :    sort(rank)\n",
    "5 :    initBestRouteVal <- rank[0]\n",
    "6 :    bestRouteVal <- initBestRouteVal\n",
    "7 :    initBestRoute <- first(rank, gen)\n",
    "8 :    bestRoute <- initBestRoute\n",
    "9 :    for i <- 0,...,y do\n",
    "10:        gen <- nextGeneration(gen, x, mutationRate)\n",
    "11:        rank <- fitness(M, gen)\n",
    "12:        sort(rank)\n",
    "13:        result[i] <- rank[0]\n",
    "14:        if rank[0] < bestRouteVal then\n",
    "15:            bestRouteVal <- rank[0]\n",
    "16:            bestRoute <- first(rank, gen)\n",
    "17:        end if\n",
    "18:    end for\n",
    "19:\n",
    "20:    return (result, bestRouteVal, bestRoute)\n"
   ]
  },
  {
   "cell_type": "markdown",
   "metadata": {},
   "source": [
    "Code"
   ]
  },
  {
   "cell_type": "code",
   "execution_count": 133,
   "metadata": {},
   "outputs": [
    {
     "name": "stdout",
     "output_type": "stream",
     "text": [
      "Initial best route: \n",
      "167\n",
      "[4, 1, 0, 3, 2]\n",
      "\n",
      "Final best route: \n",
      "108\n",
      "[3, 4, 1, 0, 2]\n",
      "\n",
      "Improvement\n",
      "35.33 %\n"
     ]
    }
   ],
   "source": [
    "def geneticAlgorithm(population, matrix, mutationRate, generations):\n",
    "    result = []\n",
    "    gen = createGen(matrix, population)\n",
    "    rank = fitness(matrix, gen)\n",
    "    rank.sort()\n",
    "    print(\"Initial best route: \")\n",
    "    print(rank[0])\n",
    "    initBestRouteVal = rank[0]\n",
    "    bestRouteVal = initBestRouteVal\n",
    "    print(first(rank, gen))\n",
    "    initBestRoute = first(rank, gen)\n",
    "    bestRoute = initBestRoute\n",
    "    result.append(rank[0])\n",
    "    \n",
    "    for i in range(0, int(generations)):\n",
    "        gen = nextGeneration(gen, population, mutationRate)\n",
    "        rank = fitness(G, gen)\n",
    "        rank.sort()\n",
    "        result.append(rank[0])\n",
    "        if rank[0] < bestRouteVal:\n",
    "            bestRouteVal = rank[0]\n",
    "            bestRoute = first(rank, gen)\n",
    "            \n",
    "    print(\"\\nFinal best route: \")\n",
    "    print(bestRouteVal)\n",
    "    print(bestRoute)\n",
    "    \n",
    "    print(\"\\nImprovement\")\n",
    "    print(round((initBestRouteVal - bestRouteVal) / (initBestRouteVal), 4) * 100, '%')\n",
    "    \n",
    "    return (result)\n",
    "\n",
    "bestRoute = geneticAlgorithm(population, G, mutation, 10)"
   ]
  },
  {
   "cell_type": "markdown",
   "metadata": {},
   "source": [
    "# Main Code"
   ]
  },
  {
   "cell_type": "markdown",
   "metadata": {},
   "source": [
    "To test the whole code.\n",
    "Can change values to see different effects."
   ]
  },
  {
   "cell_type": "code",
   "execution_count": 134,
   "metadata": {},
   "outputs": [
    {
     "name": "stdout",
     "output_type": "stream",
     "text": [
      "MAX_DISTANCE\n",
      "100\n",
      "\n",
      "Matrix\n",
      "        0   1   2   3   4   5   6   7   8   9  10  11  12  13  14\n",
      "    -------------------------------------------------------------\n",
      " 0 |    ∞  83  19  45  38   6  82  34  71  57  79  27  81  21  38\n",
      " 1 |   83   ∞  48  42  45  61  83  51  47  63  55  77  90  21  86\n",
      " 2 |   19  48   ∞  86  26  58  27  88  98  62  90  37  50  67  22\n",
      " 3 |   45  42  86   ∞  35  35  37  33  40  64  22 100  80  26  58\n",
      " 4 |   38  45  26  35   ∞   4  61  68  53  81  63  65  27  20  35\n",
      " 5 |    6  61  58  35   4   ∞  94  49  57  61   2  67  18  51  96\n",
      " 6 |   82  83  27  37  61  94   ∞  90  76  82  52   4  78   9  10\n",
      " 7 |   34  51  88  33  68  49  90   ∞  43  46  75  52  56  39  85\n",
      " 8 |   71  47  98  40  53  57  76  43   ∞  35  74   1  44  62  48\n",
      " 9 |   57  63  62  64  81  61  82  46  35   ∞   2  73  27  95  83\n",
      "10 |   79  55  90  22  63   2  52  75  74   2   ∞  82  55  76   9\n",
      "11 |   27  77  37 100  65  67   4  52   1  73  82   ∞  91  20   5\n",
      "12 |   81  90  50  80  27  18  78  56  44  27  55  91   ∞   3  66\n",
      "13 |   21  21  67  26  20  51   9  39  62  95  76  20   3   ∞  71\n",
      "14 |   38  86  22  58  35  96  10  85  48  83   9   5  66  71   ∞\n",
      "\n",
      "\n",
      "Population\n",
      "10\n",
      "\n",
      "Mutation in %\n",
      "0.05\n",
      "\n",
      "Amount of generations created\n",
      "100\n",
      "\n",
      "Running ------------------------\n",
      "\n",
      "Initial best route: \n",
      "643\n",
      "[1, 4, 9, 6, 3, 11, 7, 0, 2, 12, 8, 13, 14, 5, 10]\n",
      "\n",
      "Final best route: \n",
      "360\n",
      "[14, 1, 7, 9, 10, 3, 8, 11, 6, 0, 2, 4, 13, 12, 5]\n",
      "\n",
      "Improvement\n",
      "44.01 %\n",
      "\n",
      "-----------------------\n",
      "\n",
      "Improvement over Time Graph\n"
     ]
    },
    {
     "data": {
      "image/png": "[encoded data removed]",
      "text/plain": [
       "<Figure size 432x288 with 1 Axes>"
      ]
     },
     "metadata": {
      "needs_background": "light"
     },
     "output_type": "display_data"
    }
   ],
   "source": [
    "print(\"MAX_DISTANCE\")\n",
    "MAX_DISTANCE = 100\n",
    "print(MAX_DISTANCE)\n",
    "\n",
    "J = random_euclidean_graph(15)\n",
    "G = random_symmetric_graph(15)\n",
    "print(\"\\nMatrix\")\n",
    "show(G)\n",
    "\n",
    "print(\"\\nPopulation\")\n",
    "population = 10\n",
    "print(population)\n",
    "\n",
    "print(\"\\nMutation in %\")\n",
    "mutation=0.05\n",
    "print(mutation)\n",
    "\n",
    "print(\"\\nAmount of generations created\")\n",
    "generations = 100\n",
    "print(generations)\n",
    "\n",
    "print(\"\\nRunning ------------------------\\n\")\n",
    "results = geneticAlgorithm(population, G, mutation, generations)\n",
    "\n",
    "\n",
    "print(\"\\n-----------------------\\n\")\n",
    "\n",
    "print(\"Improvement over Time Graph\")\n",
    "def graph(results):\n",
    "    bestRoute = results[:]\n",
    "    bestRoute.sort()\n",
    "    bestRoute = bestRoute[0]\n",
    "    genList = []\n",
    "    for i in range(0,len(results)):\n",
    "        genList.append(i)\n",
    "    plt.plot(genList, results)\n",
    "    line_init = plt.axhline(y=results[0], color='r', linestyle='--')\n",
    "    line_min = plt.axhline(y=bestRoute, color='g', linestyle='--')\n",
    "    plt.legend([line_init, line_min], ['Initial best route value', 'Optimized best route value'])\n",
    "    plt.ylabel('Best Route Value')\n",
    "    plt.xlabel('Generation')\n",
    "    plt.show()\n",
    "    \n",
    "graph(results)\n",
    "    "
   ]
  },
  {
   "cell_type": "markdown",
   "metadata": {},
   "source": [
    "Source:\n",
    "* https://towardsdatascience.com/evolution-of-a-salesman-a-complete-genetic-algorithm-tutorial-for-python-6fe5d2b3ca35\n",
    "*  https://www.geeksforgeeks.org/traveling-salesman-problem-using-genetic-algorithm/ (in C++)\n",
    "* http://www.theprojectspot.com/tutorial-post/applying-a-genetic-algorithm-to-the-travelling-salesman-problem/5\n",
    "* https://www.youtube.com/watch?v=XP8R0yzAbdo"
   ]
  }
 ],
 "metadata": {
  "kernelspec": {
   "display_name": "Python 3",
   "language": "python",
   "name": "python3"
  },
  "language_info": {
   "codemirror_mode": {
    "name": "ipython",
    "version": 3
   },
   "file_extension": ".py",
   "mimetype": "text/x-python",
   "name": "python",
   "nbconvert_exporter": "python",
   "pygments_lexer": "ipython3",
   "version": "3.7.6"
  }
 },
 "nbformat": 4,
 "nbformat_minor": 4
}
