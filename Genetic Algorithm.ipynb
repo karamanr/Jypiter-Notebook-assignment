{
 "cells": [
  {
   "cell_type": "code",
   "execution_count": 3,
   "metadata": {
    "scrolled": true
   },
   "outputs": [],
   "source": [
    "from random import randint, choice, shuffle, random\n",
    "from pprint import pprint\n",
    "from itertools import permutations\n",
    "from math import inf as oo # Infinity (∞) is larger than any number\n",
    "from math import sqrt\n",
    "from time      import time\n",
    "import matplotlib.pyplot as plt\n",
    "import copy\n",
    "import numpy as np\n",
    "\n",
    "MAX_DISTANCE = 100\n",
    "\n",
    "def random_symmetric_graph(n):\n",
    "    ''' Symmetric adjacency matrix of size nxn '''\n",
    "    dist_matrix = [[oo for _ in range(n)] for _ in range(n)]\n",
    "    for i in range(n):\n",
    "        for j in range(i+1,n):\n",
    "            v = randint(1,MAX_DISTANCE)\n",
    "            dist_matrix[i][j] = v\n",
    "            dist_matrix[j][i] = v\n",
    "    return dist_matrix\n",
    "\n",
    "def random_euclidean_graph(n):\n",
    "    ''' Symmetric adjacency matrix of a Euclidean graph of size nxn '''\n",
    "    dist_matrix = [[oo for _ in range(n)] for _ in range(n)]\n",
    "    points = []\n",
    "    for p in range(n):\n",
    "        x,y = randint(0,MAX_DISTANCE), randint(0,MAX_DISTANCE)\n",
    "        points.append((x,y))\n",
    "    for i in range(n):\n",
    "        p1 = points[i]\n",
    "        for j in range(i+1,n):\n",
    "            p2 = points[j]\n",
    "            distance = sqrt((p1[0]-p2[0])**2+(p1[1]-p2[1])**2)\n",
    "            dist_matrix[i][j] = distance\n",
    "            dist_matrix[j][i] = distance\n",
    "    return dist_matrix\n",
    "\n",
    "def show(G):\n",
    "    ''' Show adjacency matrix. Useful for debugging. '''\n",
    "    n = len(G)\n",
    "    r = \"     \"\n",
    "    for i in range(n):\n",
    "        r += f'{i:4}'\n",
    "    r += '\\n    -'+'-'*(4*n)+'\\n'\n",
    "    for i in range(n):\n",
    "        r += f'{i:2} | '\n",
    "        for j in range(n):\n",
    "            r += f'{G[i][j]:4}'\n",
    "        r += '\\n'\n",
    "    r = r.replace('inf', '  ∞')\n",
    "    print(r)\n",
    "\n",
    "def cost(G, cycle):\n",
    "    ''' Calculate the cost of the given cycle '''\n",
    "    c = 0\n",
    "    n = len(G)\n",
    "    for i in range(n):\n",
    "        a = cycle[i]\n",
    "        b = cycle[(i+1)%n]\n",
    "        c += G[a][b]\n",
    "    return c"
   ]
  },
  {
   "cell_type": "markdown",
   "metadata": {},
   "source": [
    "# Example"
   ]
  },
  {
   "cell_type": "markdown",
   "metadata": {},
   "source": [
    "# Traveling Salesman Problem using Genetic Algorithm"
   ]
  },
  {
   "cell_type": "markdown",
   "metadata": {},
   "source": [
    "Source:\n",
    "* https://towardsdatascience.com/evolution-of-a-salesman-a-complete-genetic-algorithm-tutorial-for-python-6fe5d2b3ca35\n",
    "*  https://www.geeksforgeeks.org/traveling-salesman-problem-using-genetic-algorithm/ (in C++)\n",
    "* http://www.theprojectspot.com/tutorial-post/applying-a-genetic-algorithm-to-the-travelling-salesman-problem/5\n",
    "* https://www.youtube.com/watch?v=XP8R0yzAbdo"
   ]
  },
  {
   "cell_type": "markdown",
   "metadata": {},
   "source": [
    "# Create a first random generation of x possible routes"
   ]
  },
  {
   "cell_type": "code",
   "execution_count": 70,
   "metadata": {},
   "outputs": [
    {
     "name": "stdout",
     "output_type": "stream",
     "text": [
      "[[inf, 52, 12, 89, 53], [52, inf, 61, 94, 26], [12, 61, inf, 60, 26], [89, 94, 60, inf, 46], [53, 26, 26, 46, inf]]\n",
      "        0   1   2   3   4\n",
      "    ---------------------\n",
      " 0 |    ∞  52  12  89  53\n",
      " 1 |   52   ∞  61  94  26\n",
      " 2 |   12  61   ∞  60  26\n",
      " 3 |   89  94  60   ∞  46\n",
      " 4 |   53  26  26  46   ∞\n",
      "\n",
      "Genenration 0\n",
      "[[1, 3, 2, 0, 4], [2, 4, 3, 0, 1], [2, 0, 3, 4, 1], [1, 2, 3, 0, 4], [0, 1, 3, 2, 4], [4, 2, 0, 3, 1]]\n"
     ]
    }
   ],
   "source": [
    "G = random_symmetric_graph(5)\n",
    "population = 6\n",
    "\n",
    "print(G)\n",
    "\n",
    "show(G)\n",
    "\n",
    "'''Used the shuffle function to generate a 'population' sized amount'''\n",
    "'''of possible routes'''\n",
    "\n",
    "def createGen(matrix, population):\n",
    "    route = []\n",
    "    genZ = [None] * int(population)\n",
    "    for i in range(0,len(matrix)):\n",
    "        route.append(i)\n",
    "    for j in range(0,int(population)):\n",
    "        if j == 0:\n",
    "            np.random.shuffle(route)\n",
    "            newRoute = route[:]\n",
    "            genZ[j] = newRoute\n",
    "        else:\n",
    "            np.random.shuffle(route)\n",
    "            for h in range(0,len(genZ)):\n",
    "                if route == genZ[h]:\n",
    "                    np.random.shuffle(route)\n",
    "            newRoute = route[:]\n",
    "            genZ[j] = newRoute\n",
    "    return genZ\n",
    "\n",
    "print(\"Genenration 0\")        \n",
    "print(createGen(G,6))"
   ]
  },
  {
   "cell_type": "markdown",
   "metadata": {},
   "source": [
    "# Rank the \"fitness\" of these routes aka length"
   ]
  },
  {
   "cell_type": "code",
   "execution_count": 82,
   "metadata": {},
   "outputs": [
    {
     "name": "stdout",
     "output_type": "stream",
     "text": [
      "        0   1   2   3   4\n",
      "    ---------------------\n",
      " 0 |    ∞  52  12  89  53\n",
      " 1 |   52   ∞  61  94  26\n",
      " 2 |   12  61   ∞  60  26\n",
      " 3 |   89  94  60   ∞  46\n",
      " 4 |   53  26  26  46   ∞\n",
      "\n",
      "Genenration 0\n",
      "[[3, 4, 1, 2, 0], [1, 0, 4, 2, 3], [1, 2, 4, 3, 0], [0, 3, 1, 4, 2], [0, 4, 1, 2, 3], [3, 4, 2, 1, 0]]\n",
      "Fitness\n",
      "[234, 285, 274, 247, 289, 274]\n"
     ]
    }
   ],
   "source": [
    "'''Turn routes into fitness values'''\n",
    "\n",
    "def fitness(matrix, routes):\n",
    "    fitnessRanking = []\n",
    "    for i in range(0, len(routes)):\n",
    "        fitnessTotal = 0\n",
    "        for j in range(0,len(matrix)):\n",
    "            if j + 1 < len(matrix):\n",
    "                fitnessTotal = fitnessTotal + int(matrix[routes[i][j]][routes[i][j+1]])\n",
    "            else:\n",
    "                fitnessTotal = fitnessTotal + int(matrix[routes[i][j]][routes[i][0]])\n",
    "        fitnessRanking.append(fitnessTotal)\n",
    "    return fitnessRanking\n",
    "\n",
    "show(G)\n",
    "print(\"Genenration 0\")        \n",
    "genZ = createGen(G,6)\n",
    "print(genZ)\n",
    "print(\"Fitness\")\n",
    "print(fitness(G, genZ))    "
   ]
  },
  {
   "cell_type": "markdown",
   "metadata": {},
   "source": [
    "34120 = 234"
   ]
  },
  {
   "cell_type": "code",
   "execution_count": 84,
   "metadata": {},
   "outputs": [
    {
     "data": {
      "text/plain": [
       "234"
      ]
     },
     "execution_count": 84,
     "metadata": {},
     "output_type": "execute_result"
    }
   ],
   "source": [
    "46+26+61+12+89"
   ]
  },
  {
   "cell_type": "markdown",
   "metadata": {},
   "source": [
    "# Choose the parents for mating"
   ]
  },
  {
   "cell_type": "code",
   "execution_count": null,
   "metadata": {},
   "outputs": [],
   "source": [
    "def matingPool(population, selectionResults):\n",
    "    "
   ]
  }
 ],
 "metadata": {
  "kernelspec": {
   "display_name": "Python 3",
   "language": "python",
   "name": "python3"
  },
  "language_info": {
   "codemirror_mode": {
    "name": "ipython",
    "version": 3
   },
   "file_extension": ".py",
   "mimetype": "text/x-python",
   "name": "python",
   "nbconvert_exporter": "python",
   "pygments_lexer": "ipython3",
   "version": "3.7.6"
  }
 },
 "nbformat": 4,
 "nbformat_minor": 4
}
